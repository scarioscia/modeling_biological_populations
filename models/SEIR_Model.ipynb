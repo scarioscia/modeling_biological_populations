{
  "nbformat": 4,
  "nbformat_minor": 0,
  "metadata": {
    "colab": {
      "provenance": [],
      "authorship_tag": "ABX9TyPJ47z2wGaPnigSEe1/dMhP",
      "include_colab_link": true
    },
    "kernelspec": {
      "name": "python3",
      "display_name": "Python 3"
    },
    "language_info": {
      "name": "python"
    }
  },
  "cells": [
    {
      "cell_type": "markdown",
      "metadata": {
        "id": "view-in-github",
        "colab_type": "text"
      },
      "source": [
        "<a href=\"https://colab.research.google.com/github/scarioscia/modeling_biological_populations/blob/main/Day_6_SEIR_Model.ipynb\" target=\"_parent\"><img src=\"https://colab.research.google.com/assets/colab-badge.svg\" alt=\"Open In Colab\"/></a>"
      ]
    },
    {
      "cell_type": "markdown",
      "source": [
        "# Last day of class! \n",
        "We made it! At the end of class we'll go over our learning goals and answer any remaining questions you have, whether about these models, your future coursework or research, or anything! \n",
        "\n",
        "But in the meantime, let's look at one more model... "
      ],
      "metadata": {
        "id": "yp-Ouc58heKI"
      }
    },
    {
      "cell_type": "markdown",
      "source": [
        "## The SEIR Model for disease \n",
        "\n",
        "The SEIR model allows you to investigate how a given population progresses through a disease.\n",
        "\n",
        "The model breaks a population into four separate and non-overlapping sub-populations: \n",
        "- Susceptible (S): individuals who are susceptible to the disease\n",
        "- Exposed (E): individuals who were exposed to the disease and will develop it\n",
        "- Infected (I): individuals currently infected with the disease \n",
        "- Recovered (R): individuals who can be removed from the system (either because they now have immunity, or because they died) \n"
      ],
      "metadata": {
        "id": "W5N2f2xyhn16"
      }
    },
    {
      "cell_type": "markdown",
      "source": [
        "At each time step, there is some probability that a given individual will move from one sub-population to another. "
      ],
      "metadata": {
        "id": "X1Jfg_kMj8TK"
      }
    },
    {
      "cell_type": "markdown",
      "source": [
        "\n",
        "Much like the earlier two-population models, the change in each group depends on the number of individuals in the other groups, as well as the rate of change (e.g., in past models this may have been the likelihood of a predator eating a prey in a given generation, or the amount of growth a predator got by eating a prey). \n",
        "\n",
        "But there is one major difference in how these populations are calculated and compared. Any guesses? "
      ],
      "metadata": {
        "id": "JwfdHNugjnmO"
      }
    },
    {
      "cell_type": "code",
      "execution_count": null,
      "metadata": {
        "id": "3sJQPq4UhWFG"
      },
      "outputs": [],
      "source": [
        "# Your guess here for what makes this model different (there are a bunch of possible correct answers!)"
      ]
    },
    {
      "cell_type": "markdown",
      "source": [
        "## Rules for the SEIR Model \n",
        "\n",
        "With each timepoint, there is a change between populations: the change in Susceptible over time; the change in Exposed over time; etc. We can make an equation for each of those changes, based on parameters and factors, so for each change (delta) in subpopulation, we come up with an equation: "
      ],
      "metadata": {
        "id": "bQT0pHGEhaqx"
      }
    },
    {
      "cell_type": "markdown",
      "source": [
        "\n",
        "\\begin{align}\n",
        "\\frac{\\mathrm{d}S}{\\mathrm{d}t} &= - β * S \\\\[1em]\n",
        "\\frac{\\mathrm{d}E}{\\mathrm{d}t} &= β * S - σ * E \\\\[1em]\n",
        "\\frac{\\mathrm{d}I}{\\mathrm{d}t} &= σ * E - γ * I \\\\[1em]\n",
        "\\frac{\\mathrm{d}R}{\\mathrm{d}t} &= γ * I \\\\[1em]\n",
        "\\end{align}\n"
      ],
      "metadata": {
        "id": "CRiu76RJkUnE"
      }
    },
    {
      "cell_type": "markdown",
      "source": [
        "Can anyone think about what parameters might be relevant for each of these equations? \n",
        "\n",
        "We can start with the change in susceptible over time. What affects how many individuals in the population are in the susceptible subpopulation? "
      ],
      "metadata": {
        "id": "HxJoBhJtrs8G"
      }
    },
    {
      "cell_type": "code",
      "source": [
        "# get a function that returns dSdt, dEdt, dIdt, dRdt for each timepoint \n",
        "def SEIR(S, E, I, R, beta, gamma, sigma):\n",
        "\n",
        "  dSdt = -beta * S\n",
        "  dEdt = beta * S - sigma * E\n",
        "  dIdt = sigma * E - gamma * I \n",
        "  dRdt = gamma * I\n",
        "\n",
        "  return(dSdt, dEdt, dIdt, dRdt)"
      ],
      "metadata": {
        "id": "tLCGiSec4PUL"
      },
      "execution_count": 2,
      "outputs": []
    },
    {
      "cell_type": "markdown",
      "source": [
        "Now I want to introduce the idea of integrating under our deltas, using a function called `odeint`, which we'll import from `scipy.integrate`. \n",
        "\n",
        "(While we're importing, let's also grab our usuals - `matplotlib.pyplot` so we can plot our outputs, and `numpy`, which today we'll use to create the time dimension that we are integrating over - much like we did for Wright-Fisher)."
      ],
      "metadata": {
        "id": "5Dk1GttFu27n"
      }
    },
    {
      "cell_type": "code",
      "source": [
        "from scipy.integrate import odeint\n",
        "import matplotlib.pyplot as plt\n",
        "import numpy as np"
      ],
      "metadata": {
        "id": "UphFVfrH_REr"
      },
      "execution_count": 3,
      "outputs": []
    },
    {
      "cell_type": "markdown",
      "source": [
        "Take a minute to read the `odeint` manual and figure out how it might engage with the `SEIR` function you wrote above. You might have to modify your SEIR function (which is totally fine) but the way `odeint` and `SEIR` interact should be somewhat clear from the manual... "
      ],
      "metadata": {
        "id": "dO4HTe5XviAS"
      }
    },
    {
      "cell_type": "code",
      "source": [
        "# using odeint to take the integral under a period of time \n",
        "# manual: https://docs.scipy.org/doc/scipy/reference/generated/scipy.integrate.odeint.html\n"
      ],
      "metadata": {
        "id": "faPxsQS7_phQ"
      },
      "execution_count": null,
      "outputs": []
    },
    {
      "cell_type": "code",
      "source": [
        "#@title <font color='green '>Run this cell for an explanation of the odeint() function \n",
        "\n",
        "# The inputs to odeint are: \n",
        "# the function you want to call \n",
        "# the initial (starting) conditions at which you're calling it\n",
        "# the time points over which you're calling it \n",
        "# any additional arguments necessary for your function \n",
        "\n",
        "# Here is an example of odeint's syntax (this won't work because you haven't defined SEIR to account for odeint yet) \n",
        "odeint(SEIR, initial_popsizes, t, args=(beta, gamma, sigma))"
      ],
      "metadata": {
        "id": "EE34-iWHvstK"
      },
      "execution_count": null,
      "outputs": []
    },
    {
      "cell_type": "markdown",
      "source": [
        "Now, usually when you define a function, you give it a set of arguments. If you look back past your previous code notebooks, you'll see that in every case, every argument defined in your function is used IN THAT function. \n",
        "\n",
        "If you scroll down to the example code at the bottom of the `odeint` manual, you'll see that in their function `pend`, they define `t` as an argument... but then they don't use `t` at all within the `pend` function. That's because `t` (here, the duration of time over which odeint is integrating) is a required parameter for `odeint`. So, it needs to be passed as an argument to the function that `odeint` is working on."
      ],
      "metadata": {
        "id": "ZHWG8zO61g1S"
      }
    },
    {
      "cell_type": "markdown",
      "source": [
        "The other thing we need to change is the initial sizes of each population - number of susceptible, number of exposed, etc. In `odeint`, those initial conditions need to be passed as one variable; they can then be assigned to each individual population (S, E, I, and R) within your `SEIR` function. \n",
        "\n",
        "In the cell below, define a list `initial_popsizes` that contains the values that you can then assign to each of the populations. Think also about what you want those values to be... how many people realistically would be recovered at the start of your simulation? How many would be infected? "
      ],
      "metadata": {
        "id": "IdKP-tmb8xJu"
      }
    },
    {
      "cell_type": "code",
      "source": [
        "# define your initial conditions here\n",
        "initial_popsizes = "
      ],
      "metadata": {
        "id": "MSJQPrLy9qCw"
      },
      "execution_count": null,
      "outputs": []
    },
    {
      "cell_type": "code",
      "source": [
        "#@title <font color='green '>Run this cell for an example of how to define `initial_popsizes`\n",
        "#initial_popsizes = S0, E0, I0, R0\n",
        "initial_popsizes = 1000, 0, 1, 0\n"
      ],
      "metadata": {
        "id": "IdtDT9CY-bFS"
      },
      "execution_count": 4,
      "outputs": []
    },
    {
      "cell_type": "markdown",
      "source": [
        "The next thing you'll notice that `odeint` requires is a timescale, `t`, over which to iterate. We'll use a built-in function from the `numpy` package, called `linspace` to create this grid of timepoints. \n",
        "\n",
        "I've put in 160 days here, but you can change that number depending on how long you'd like to run your function. You can also update this later to replace 160 with a variable that you select randomly or from some distribution. "
      ],
      "metadata": {
        "id": "VMjCiwQl9tId"
      }
    },
    {
      "cell_type": "code",
      "source": [
        "# define times over which odeint will integrate \n",
        "# A grid of time points (in days)\n",
        "t = np.linspace(0, 160, 160)"
      ],
      "metadata": {
        "id": "7B5GPuy-91R5"
      },
      "execution_count": 5,
      "outputs": []
    },
    {
      "cell_type": "markdown",
      "source": [
        "Given those updates, edit the `SEIR` function from above to: \n",
        "- accept `initial_popsizes` as an argument \n",
        "- assign each value in `initial_popsizes` to the starting populations (S, E, I, and R) \n",
        "- accept `t` as an argument (remember that this `t` doesn't have to be used within `SEIR`, so it's okay that the only time it's mentioned is as an argument) "
      ],
      "metadata": {
        "id": "EdteDonp-Djn"
      }
    },
    {
      "cell_type": "code",
      "source": [
        "# Your updated SEIR function here "
      ],
      "metadata": {
        "id": "RHx6tzKs-R6k"
      },
      "execution_count": null,
      "outputs": []
    },
    {
      "cell_type": "code",
      "source": [
        "#@title <font color='green '>Run this cell for a function that can be called by odeint to compute the change in each stage of SEIR \n",
        "\n",
        "# get a function that returns dSdt, dEdt, dIdt, dRdt for each timepoint \n",
        "def SEIR(initial_popsizes, t, beta, gamma, sigma):\n",
        "  \n",
        "  S, E, I, R = initial_popsizes\n",
        "\n",
        "  dSdt = -beta * S\n",
        "  dEdt = beta * S - sigma * E\n",
        "  dIdt = sigma * E - gamma * I \n",
        "  dRdt = gamma * I\n",
        "\n",
        "  # modify it so that people in R have a different sigma (exposure rate) \n",
        "\n",
        "  return(dSdt, dEdt, dIdt, dRdt)"
      ],
      "metadata": {
        "id": "21-SFjKV07Lf"
      },
      "execution_count": 6,
      "outputs": []
    },
    {
      "cell_type": "markdown",
      "source": [
        "To call `odeint` on your function, follow similar syntax as in the manual. Remember from the manual that the arguments are: \n",
        "- the function you want `odeint` to iterate over \n",
        "- the starting conditions in your model \n",
        "- the time you want `odeint` to iterate over\n",
        "- any additional arguments required for your function \n"
      ],
      "metadata": {
        "id": "VShoVWYU_PwX"
      }
    },
    {
      "cell_type": "code",
      "source": [
        "# call odeint on your function here "
      ],
      "metadata": {
        "id": "ZcCG6-0InErm"
      },
      "execution_count": null,
      "outputs": []
    },
    {
      "cell_type": "code",
      "source": [
        "#@title <font color='green '>Run this cell for an example of the syntax to call odeint \n",
        "\n",
        "odeint(SEIR, initial_popsizes, t, args=(0.2, 0.1, 0.2))"
      ],
      "metadata": {
        "id": "W10rHceFnIPz"
      },
      "execution_count": 9,
      "outputs": []
    },
    {
      "cell_type": "markdown",
      "source": [
        "In the cell above, we define `beta`, `gamma`, and `sigma` directly in the `odeint` execution. But you can also define them as variables ahead of time (and this is better practice, because it more clearly lets you change the parameters as you explore your function), and then call `odeint` as below:"
      ],
      "metadata": {
        "id": "eZ2jipeinkqM"
      }
    },
    {
      "cell_type": "code",
      "source": [
        "beta = 0.2\n",
        "gamma = 0.15\n",
        "sigma = 0.1\n",
        "\n",
        "pop_sizes = odeint(SEIR, initial_popsizes, t, args=(beta, gamma, sigma))"
      ],
      "metadata": {
        "id": "-R_n_nQ6nuTu"
      },
      "execution_count": 10,
      "outputs": []
    },
    {
      "cell_type": "markdown",
      "source": [
        "Now your output (the number of individuals in S, E, I, and R, after each timepoint) is all saved in `pop_sizes`. You can investigate the dimensions of `pop_sizes` in the cell below. "
      ],
      "metadata": {
        "id": "qdDbjSbTn42N"
      }
    },
    {
      "cell_type": "code",
      "source": [
        "# print pop_sizes and its dimensions here "
      ],
      "metadata": {
        "id": "qPs7WO2Fn27W"
      },
      "execution_count": null,
      "outputs": []
    },
    {
      "cell_type": "markdown",
      "source": [
        "The SEIR model is particularly interested when plotted; this way you can see the relative change in each population over time. We're going to maniuplate that output, `pop_sizes`, just slightly; this will allow us to plot the results using the same `matplotlib.pyplot` syntax we've used throughout the course. \n",
        "\n",
        "We are going to use the `.T` function from `numpy` to *transpose* the output of `pop_sizes` and create four distinct lists, one for each population: "
      ],
      "metadata": {
        "id": "-G0Y8-tSoFj_"
      }
    },
    {
      "cell_type": "code",
      "source": [
        "# Manual for the .T function https://numpy.org/doc/stable/reference/generated/numpy.ndarray.T.html\n",
        "S, E, I, R = pop_sizes.T"
      ],
      "metadata": {
        "id": "1aEbHbYpokHZ"
      },
      "execution_count": 11,
      "outputs": []
    },
    {
      "cell_type": "code",
      "source": [
        "# Investigate each of these outputs here "
      ],
      "metadata": {
        "id": "KGRtQeDZopK2"
      },
      "execution_count": null,
      "outputs": []
    },
    {
      "cell_type": "markdown",
      "source": [
        "Now, using the syntax we've used throughout class, plot the four populations over time. Label each line and create a legend that shows which color represents each population. "
      ],
      "metadata": {
        "id": "qD6-HuuxoscK"
      }
    },
    {
      "cell_type": "code",
      "source": [
        "# Your plot here "
      ],
      "metadata": {
        "id": "37E-VdeCovfM"
      },
      "execution_count": null,
      "outputs": []
    },
    {
      "cell_type": "code",
      "source": [
        "#@title <font color='green '>Run this cell for code to plot your four populations \n",
        "\n",
        "fig, ax = plt.subplots()\n",
        "ax.plot(t, S, label = \"Susceptible\")\n",
        "ax.plot(t, E, label = \"Exposed\")\n",
        "ax.plot(t, I, label = \"Infected\")\n",
        "ax.plot(t, R, label = \"Recovered\")\n",
        "leg = plt.legend(loc=\"best\")"
      ],
      "metadata": {
        "colab": {
          "base_uri": "https://localhost:8080/",
          "height": 265
        },
        "id": "vLK7n0_2owo7",
        "outputId": "803f1101-1dd9-442c-f748-78de1b25118d"
      },
      "execution_count": 12,
      "outputs": [
        {
          "output_type": "display_data",
          "data": {
            "text/plain": [
              "<Figure size 432x288 with 1 Axes>"
            ],
            "image/png": "[encoded data removed]"
          },
          "metadata": {
            "needs_background": "light"
          }
        }
      ]
    },
    {
      "cell_type": "markdown",
      "source": [
        "# Modifying the SEIR model \n",
        "\n",
        "So far, your `SEIR` function and `odeint` compute the change in each of S, E,I, and R over time. Here are a few modifications (in no particular order) you might consider implementing, to add different complexities to your model: \n",
        "\n",
        "1. Allow individuals to return to Susceptible after being Recovered \n",
        "2. Create separate, distinct groups for Recovered and Deceased individuals \n",
        "3. Allow for some individuals who are Exposed to *not* catch the disease\n",
        "4. Set the initial size of the populations as variables with respect to one another (rather than individually defining each) \n",
        "5. Draw your rates (beta, gamma, sigma) from a distribution (maybe even execute your function on a *list* of rates and plot those executions on the same graph, to allow comparison of the outcomes "
      ],
      "metadata": {
        "id": "xH8u9onVo7lF"
      }
    }
  ]
}