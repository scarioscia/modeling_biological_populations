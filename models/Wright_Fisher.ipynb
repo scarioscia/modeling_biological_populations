{
 "cells": [
  {
   "cell_type": "markdown",
   "metadata": {
    "colab_type": "text",
    "id": "view-in-github"
   },
   "source": [
    "<a href=\"https://colab.research.google.com/github/scarioscia/modeling_biological_populations/blob/main/Day_3_Wright_Fisher.ipynb\" target=\"_parent\"><img src=\"https://colab.research.google.com/assets/colab-badge.svg\" alt=\"Open In Colab\"/></a>"
   ]
  },
  {
   "cell_type": "code",
   "execution_count": null,
   "metadata": {
    "id": "Hi8jO2ZR0p5m"
   },
   "outputs": [],
   "source": [
    "import seaborn as sns\n",
    "import numpy as np\n",
    "import matplotlib.pyplot as plt\n",
    "import random"
   ]
  },
  {
   "cell_type": "markdown",
   "metadata": {
    "id": "ojeuEKZ8U4qu"
   },
   "source": [
    "# **Live Coding**"
   ]
  },
  {
   "cell_type": "code",
   "execution_count": null,
   "metadata": {
    "id": "HfG8-iTd-Fwd"
   },
   "outputs": [],
   "source": []
  },
  {
   "cell_type": "markdown",
   "metadata": {
    "id": "7Hpre6EQU586"
   },
   "source": [
    "# **Basic Exercise: The Wright-Fisher Model**\n",
    "\n",
    "The Wright-Fisher model is a model commonly used to investigate the effect of **genetic drift**, or random fluctuation of alleles from generation to generation caused by a finite population size. In this model, we assume: \n",
    "\n",
    "* Finite population that is constant in size across generations\n",
    "* Discrete generations that do not overlap\n",
    "* No selection\n",
    "* No assortative mating\n",
    "* No mutation\n",
    "\n",
    "We can thus think of Wright-Fisher as modeling an allele that is *evolutionarily neutral*. \n",
    "\n",
    "Since random effects are the only thing changing the frequency of an allele from generation to generation, we can simulate the change in frequency between generations by sampling from the binomial distribution. The Binomial states that the probability of observing $j$ alleles in the next generation is: \n",
    "\n",
    "\\begin{align}\n",
    "&\\binom{2N}{j}\\;p^j_i\\;(1-p_i)^{2N-j} \\\\[1em]\n",
    "&\\binom{n}{k} = \\frac{n!}{ k!( n-k)!}\n",
    "\\end{align}\n",
    "\n",
    "with $N$ as the population size and $i$ as the current allele frequency. Note that the quantity we care about here is $2N$ - the number of chromosomes! \n",
    "\n",
    "The easiest way to draw from the Binomial distribution is to use the function `np.random.binomial(n, p)`, where `n` is the number of trials and `p` is the probability of success. "
   ]
  },
  {
   "cell_type": "markdown",
   "metadata": {
    "id": "48jgrPH59_Uq"
   },
   "source": [
    "## **Exercise 1: The Wright-Fisher Model**\n",
    "\n",
    "In the space below, create a function that implements the Wright-Fisher model. Your function should accept two arguments: \n",
    "\n",
    "* a starting allele frequency \n",
    "* the population size\n",
    "\n",
    "Your function should run until one of the two alleles reaches **fixation** (i.e., your allele frequency equals 0 or 1). \n",
    "\n",
    "Your function should `return` a list containing the allele frequencies at each generation, including the first and last generations. "
   ]
  },
  {
   "cell_type": "code",
   "execution_count": null,
   "metadata": {
    "id": "jyUOugvF9_Bc"
   },
   "outputs": [],
   "source": []
  },
  {
   "cell_type": "markdown",
   "metadata": {
    "id": "DAJcdcOZ-z8T"
   },
   "source": [
    "In the space below, run your function with any starting allele frequency and a population of at least 100. Print out the time to fixation (i.e., the number of generations before your allele frequency reaches 0 or 1)."
   ]
  },
  {
   "cell_type": "code",
   "execution_count": null,
   "metadata": {
    "id": "qMHAAWyQVXrm"
   },
   "outputs": [],
   "source": []
  },
  {
   "cell_type": "markdown",
   "metadata": {
    "id": "LtS4Yr8D_AmD"
   },
   "source": [
    "Using that same data, create a plot of allele frequency over time throughout your simulation."
   ]
  },
  {
   "cell_type": "code",
   "execution_count": null,
   "metadata": {
    "id": "16IQRwKv_AZg"
   },
   "outputs": [],
   "source": []
  },
  {
   "cell_type": "markdown",
   "metadata": {
    "id": "a_lBTY2b_IO0"
   },
   "source": [
    "# **Exercise 2: Multiple Iterations of the Model**\n",
    "\n",
    "Most of the models we have considered in this class operate deterministically - that is, every time we run our code, we get the same result. This time, we are running a simulation with random behavior, so every time we run it, we will get a different result. Run your model repeatedly and visualize all your allele frequency trajectories on one plot. \n",
    "\n",
    "If you want all of your lines to be the same color, you can add the following to your `plot()` command: `plt.plot(<x values>, <y values>, <color>)`. Popular colors are: `'b'` - blue; `'r'` - red; `'k'` - black."
   ]
  },
  {
   "cell_type": "code",
   "execution_count": 1,
   "metadata": {
    "cellView": "form",
    "id": "wFqxCfSL_99w"
   },
   "outputs": [
    {
     "name": "stdout",
     "output_type": "stream",
     "text": [
      "Initialize a list to store WF results\n",
      "for <some number of times>:\n",
      "  Run WF simulation and save output to your list\n",
      "\n",
      "Create a figure\n",
      "for each list in your list of lists:\n",
      "  Plot the allele frequency trajectory\n"
     ]
    }
   ],
   "source": [
    "#@title <font color='green'>Run this cell for pseudcode</font>\n",
    "\n",
    "print('Initialize a list to store WF results\\nfor <some number of times>:\\n  Run WF simulation and save output to your list\\n\\nCreate a figure\\nfor each list in your list of lists:\\n  Plot the allele frequency trajectory')"
   ]
  },
  {
   "cell_type": "code",
   "execution_count": null,
   "metadata": {
    "id": "LqClXyPZhABF"
   },
   "outputs": [],
   "source": []
  },
  {
   "cell_type": "markdown",
   "metadata": {
    "id": "07wH4nJKBggL"
   },
   "source": [
    "This is a neat figure, but it is hard to visualize more than a small number of allele frequency trajectories without things getting cluttered. Furthemore, it is not very easy to see the times to fixation. Both of these can be fixed using a histogram. First, run your WF model at least 1000 times, storing the **times to fixation** in a list."
   ]
  },
  {
   "cell_type": "code",
   "execution_count": null,
   "metadata": {
    "id": "pRnCnQYTB-Ah"
   },
   "outputs": [],
   "source": []
  },
  {
   "cell_type": "markdown",
   "metadata": {
    "id": "umjBG50HB-U8"
   },
   "source": [
    "Now, use matplotlib to create a histogram. The way to do this is: `ax.hist(<data to be visualized>, bins = <number of bins>)`. Here's an example: "
   ]
  },
  {
   "cell_type": "code",
   "execution_count": null,
   "metadata": {
    "colab": {
     "base_uri": "https://localhost:8080/",
     "height": 374
    },
    "id": "0CgmgATjCLlz",
    "outputId": "8f4bf799-4fb6-4c41-e3d2-745e447fdc87"
   },
   "outputs": [
    {
     "data": {
      "text/plain": [
       "(array([ 3., 11.,  5., 14.,  9., 49., 28., 61., 39., 77., 76., 23., 51.,\n",
       "        15., 24.,  6.,  5.,  1.,  2.,  1.]),\n",
       " array([46.  , 47.55, 49.1 , 50.65, 52.2 , 53.75, 55.3 , 56.85, 58.4 ,\n",
       "        59.95, 61.5 , 63.05, 64.6 , 66.15, 67.7 , 69.25, 70.8 , 72.35,\n",
       "        73.9 , 75.45, 77.  ]),\n",
       " <a list of 20 Patch objects>)"
      ]
     },
     "execution_count": 7,
     "metadata": {},
     "output_type": "execute_result"
    },
    {
     "data": {
      "image/png": "[encoded data removed]",
      "text/plain": [
       "<Figure size 288x288 with 1 Axes>"
      ]
     },
     "metadata": {
      "needs_background": "light"
     },
     "output_type": "display_data"
    }
   ],
   "source": [
    "hist_test = []\n",
    "for i in range(500):\n",
    "  hist_test.append(np.random.binomial(100, 0.6))\n",
    "\n",
    "fig, ax = plt.subplots(figsize = (4,4))\n",
    "ax.hist(hist_test, bins = 20)\n"
   ]
  },
  {
   "cell_type": "markdown",
   "metadata": {
    "id": "m7Qx0Rt_KGKW"
   },
   "source": [
    "Create your histogram below."
   ]
  },
  {
   "cell_type": "code",
   "execution_count": null,
   "metadata": {
    "id": "v8Vhk2wCKF5f"
   },
   "outputs": [],
   "source": []
  },
  {
   "cell_type": "markdown",
   "metadata": {
    "id": "2G9g3AJhiTUK"
   },
   "source": [
    "## **Exercise 3: Effect of population size and allele frequency on fixation time**\n",
    "\n",
    "We can use our model to investigate how changing the population size affects time to fixation. Pick at least five population sizes greater than or equal to 50. \n",
    "\n",
    "For each population size, run the model at least 50 times and find the **average** time to fixation at each population size. Keep your allele frequency constant for all runs. A hint about averages - if you have a list of numbers, you can find the average like this: `sum(my_list)/len(my_list)`. (This is just an arithmetic mean: you're taking the sum of all the values in your list and dividing it by the number of values in your list.)\n",
    "\n",
    "Create a scatter or line plot of population size vs. average time to fixation."
   ]
  },
  {
   "cell_type": "code",
   "execution_count": null,
   "metadata": {
    "id": "Ey2Fm--yicai"
   },
   "outputs": [],
   "source": []
  },
  {
   "cell_type": "markdown",
   "metadata": {
    "id": "kf5T-9tJEBow"
   },
   "source": [
    "We can do the same thing for allele frequencies. This time, pick a population size and vary the allele frequency. Run at least 10 trials for each allele frequency. I've included some code to create a list of evenly spaced allele frequencies below using the `np.arange()` function. \n",
    "\n",
    "If this takes a while to run, decrease your population size. For me, 1000 individuals and 10 trials per allele frequency ran fast enough."
   ]
  },
  {
   "cell_type": "code",
   "execution_count": null,
   "metadata": {
    "id": "VD1UeemfqAGV"
   },
   "outputs": [],
   "source": [
    "AFs = np.arange(0, 1, 0.01)\n"
   ]
  },
  {
   "cell_type": "code",
   "execution_count": null,
   "metadata": {},
   "outputs": [],
   "source": []
  },
  {
   "cell_type": "markdown",
   "metadata": {
    "id": "sCMbPv3AW0-E"
   },
   "source": [
    "# **Advanced Exercise: Heatmaps**\n",
    "\n",
    "So far, you've investigated the effects of changing starting population size and allele frequency. We represented them individually as line plots. If we want to represent everything together in one figure, we can use a heatmap. \n",
    "\n",
    "A heatmap takes as input a 2D matrix, which for us will be a list of list, for example:\n",
    "\n",
    "```\n",
    "[[1, 2, 3],\n",
    "[3, 1, 2],\n",
    "[8, 2, 0]\n",
    "```\n",
    "\n",
    "In the cell block below, generate a list of `pop_sizes` from 1000 to 10000, with a step size of 1000. Then generate a list of `allele_frequencies` from 0 to 1, with a step size of 0.1. \n",
    "\n",
    "For each combination of population size and allele frequency, run 10 trials of your WF simulation. Save the average time to fixation. "
   ]
  },
  {
   "cell_type": "code",
   "execution_count": null,
   "metadata": {
    "cellView": "form",
    "id": "xRz5rhtcGMcP"
   },
   "outputs": [],
   "source": [
    "#@title <font color='green'>Run this cell for pseudcode</font>\n",
    "\n",
    "print('Initialize pop size list\\nInitialize AF list\\nInitialize a list to store heatmap input\\n\\nfor each population size:\\n  Generate a list of times:\\n  for each Allele Frequency:\\n    Run ten trials of WF sim\\n    Compute the average time to fixation\\n    Save to your list of times\\n  Add your list of times to your heatmap input')"
   ]
  },
  {
   "cell_type": "code",
   "execution_count": null,
   "metadata": {
    "id": "9qownenkFsbW"
   },
   "outputs": [],
   "source": []
  },
  {
   "cell_type": "markdown",
   "metadata": {
    "id": "ZcopuDZXG4Rj"
   },
   "source": [
    "To generate a heatmap, we can use the `seaborn` library. `Seaborn` is a package developed based on `matplotlib` that makes creating beautiful figures easy. The heatmap command is `sns.heatmap(<input data>)`. Create your heatmap below."
   ]
  },
  {
   "cell_type": "code",
   "execution_count": null,
   "metadata": {
    "id": "1PfOUJjqHLCT"
   },
   "outputs": [],
   "source": []
  }
 ],
 "metadata": {
  "colab": {
   "include_colab_link": true,
   "provenance": [],
   "toc_visible": true
  },
  "kernelspec": {
   "display_name": "Python 3",
   "language": "python",
   "name": "python3"
  },
  "language_info": {
   "codemirror_mode": {
    "name": "ipython",
    "version": 3
   },
   "file_extension": ".py",
   "mimetype": "text/x-python",
   "name": "python",
   "nbconvert_exporter": "python",
   "pygments_lexer": "ipython3",
   "version": "3.8.5"
  }
 },
 "nbformat": 4,
 "nbformat_minor": 1
}
