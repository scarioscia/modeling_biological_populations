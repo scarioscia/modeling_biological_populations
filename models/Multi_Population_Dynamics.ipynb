{
  "nbformat": 4,
  "nbformat_minor": 0,
  "metadata": {
    "colab": {
      "provenance": [],
      "include_colab_link": true
    },
    "kernelspec": {
      "name": "python3",
      "display_name": "Python 3"
    },
    "language_info": {
      "name": "python"
    }
  },
  "cells": [
    {
      "cell_type": "markdown",
      "metadata": {
        "id": "view-in-github",
        "colab_type": "text"
      },
      "source": [
        "<a href=\"https://colab.research.google.com/github/scarioscia/modeling_biological_populations/blob/main/Day_2_Multi_Population_Dynamics.ipynb\" target=\"_parent\"><img src=\"https://colab.research.google.com/assets/colab-badge.svg\" alt=\"Open In Colab\"/></a>"
      ]
    },
    {
      "cell_type": "markdown",
      "source": [
        "# In-Class Live Coding"
      ],
      "metadata": {
        "id": "oZGxebfnyLWz"
      }
    },
    {
      "cell_type": "code",
      "execution_count": null,
      "metadata": {
        "id": "jd1yAWHqyK6Z"
      },
      "outputs": [],
      "source": [
        "import numpy as np\n",
        "import random"
      ]
    },
    {
      "cell_type": "markdown",
      "source": [],
      "metadata": {
        "id": "jSlvkf76wU35"
      }
    },
    {
      "cell_type": "markdown",
      "source": [
        "# Basic Exercise: Lotka-Volterra Predator Prey Dynamics\n",
        "\n",
        "The Lotka-Volterra equation is a classic set of differential equations commonly used to describe predator-prey dynamics. The equation is as follows: \n",
        "\n",
        "\\begin{align}\n",
        "\\frac{\\mathrm{d}x}{\\mathrm{d}t} &= α\\,x -β\\,x\\,y \\\\[1em]\n",
        "\\frac{\\mathrm{d}x}{\\mathrm{d}t} &= δ\\,\\beta\\;x\\;y -γ\\,y \\\\[1em]\n",
        "\\end{align}\n",
        "\n",
        "with the terms defined as such: \n",
        "\n",
        "\\begin{align}\n",
        "x\\;&– \\text{the number of prey} \\\\\n",
        "y\\;&– \\text{the number of predators} \\\\\n",
        "\\alpha\\;&– \\text{the birth rate of prey} \\\\\n",
        "\\beta\\;&– \\text{the predation rate} \\\\\n",
        "\\delta\\;&– \\text{a conversion rate for predation events into birth of new predators} \\\\\n",
        "\\gamma\\;&– \\text{the death rate of predators} \\\\\n",
        "\\end{align}\n",
        "\n",
        "Breaking these down individually: \n",
        "\n",
        "The first equation, $\\frac{\\mathrm{d}x}{\\mathrm{d}t} = α\\,x -β\\,x\\,y$ determines the rate of change of prey. To put it into words, it says that the rate of change of prey animals is the difference between the birth of new prey animals ($α\\,x$) and by the rate at which they are killed by predators ($β\\,x\\,y$). Note that the rate of predation is proportional to both the number of predators and the number of prey. \n",
        "\n",
        "The second equation, $\\frac{\\mathrm{d}x}{\\mathrm{d}t} = δ\\,\\beta\\;x\\;y -γ\\,y$ determines the rate of change of predators. To put it into words, it says that the rate of change of predators is the difference between the birth of new predators ($δ\\,\\beta\\;x$\\;y) and the death of new predators ($γ\\,y$). Note that the birth rate of new predators is directly proportional to the rate of predation.\n"
      ],
      "metadata": {
        "id": "9apwSFciyQin"
      }
    },
    {
      "cell_type": "markdown",
      "source": [
        "Let's implement this in Python using functions. In your function, we to establish a time scale that we will operate on. We will use `numpy`, a Python library for mathematics, to do so. I've given you an example of how to so below. This block of code definies a list of numbers from 0 to 100, sepated by 0.001. "
      ],
      "metadata": {
        "id": "h1p86kCS1jPO"
      }
    },
    {
      "cell_type": "code",
      "source": [
        "end = 100\n",
        "step = 0.001\n",
        "times = np.arange(0, end, step)"
      ],
      "metadata": {
        "id": "zJrwCojLyQPj"
      },
      "execution_count": null,
      "outputs": []
    },
    {
      "cell_type": "markdown",
      "source": [
        "In the space below, define a function for your Lotka-Volterra simulation. It must take the following arguments: \n",
        "\n",
        "* step size\n",
        "* end time point \n",
        "* initial number of prey\n",
        "* initial number of predators\n",
        "* birth rate for prey \n",
        "* predation chance \n",
        "* conversion rate of predation events to new predators ($\\delta$ in the equation above)\n",
        "* death rate for predators \n",
        "\n",
        "In your function do the following: \n",
        "\n",
        "1. Establish a range of times to operate on (conveniently done using the `np.arange()` function above)\n",
        "2. Create lists to store the numbers of predators and prey. \n",
        "3. Create a loop that steps through each time point. In this for loop: \n",
        "* Calculate the rate of change for predators and prey using the equations above.\n",
        "* To get the number of predators/prey in the next generation, take the *current* number of predators/prey and add the rate of change multiplied by the step size. \n",
        "* If the number of predators or prey drops below 0, set it equal to 0.\n",
        "* Update your lists of population size. \n",
        "4. Return your lists of population sizes after all time steps are complete.\n",
        "\n",
        "If you want to see the structure of how your code could look, run the hint box below for pseudocode."
      ],
      "metadata": {
        "id": "9I5Aoz9u2coG"
      }
    },
    {
      "cell_type": "code",
      "source": [
        "#@title <font color='green'>Run this cell for pseudocode</font>\n",
        "\n",
        "print(\"def <function_name>(arguments):\\n  <set up lists for predators and prey>\\n  <set up a range of times>\\n  for <time in your time range>:\\n    <find the rate of change for predators and prey>\\n    <multiply rate of change by time step and add to current population size\\n    <Ensure that population sizes are non-negative>\\n  return population sizes\")"
      ],
      "metadata": {
        "cellView": "form",
        "id": "qwxeTFsp5CX3"
      },
      "execution_count": null,
      "outputs": []
    },
    {
      "cell_type": "code",
      "source": [],
      "metadata": {
        "id": "pW0xmb_d2ca9"
      },
      "execution_count": null,
      "outputs": []
    },
    {
      "cell_type": "markdown",
      "source": [
        "Now that your function is set up, run it across a range of parameters and create plots tracing the predator and prey population sizes across time. "
      ],
      "metadata": {
        "id": "MDhOcTXO537c"
      }
    },
    {
      "cell_type": "code",
      "source": [],
      "metadata": {
        "id": "ZlhlLsHO53w_"
      },
      "execution_count": null,
      "outputs": []
    },
    {
      "cell_type": "markdown",
      "source": [
        "# Advanced Exercise: Phase Diagrams\n",
        "\n",
        "So far we have plotted predator and prey dynamics with time on the x-axis and population size on the y-axis. An alternative way to visualize predator-prey systems is a phase diagram. Here, the x-axis is the predator population size and the y-axis is the prey population size (or vice versa). The diagram itself is a line plot. To trace the dynamics of the system over time, start at any point of your phase diagram and trace it. Try creating one below: "
      ],
      "metadata": {
        "id": "tIAB6zct6ZLW"
      }
    },
    {
      "cell_type": "code",
      "source": [],
      "metadata": {
        "id": "ZnXxw5Ku6SJ0"
      },
      "execution_count": null,
      "outputs": []
    },
    {
      "cell_type": "markdown",
      "source": [
        "# Advanced Exercise: Randomness in the predator-prey model\n",
        "\n",
        "Currently, our predator-prey simulations are completely deterministic. We can them more exciting by adding random noise. \n",
        "\n",
        "In python, we can generate pseudo-random numbers using the `random` module. We imported it above with the command `import random`. \n",
        "\n",
        "To draw a random float, we can use `random.uniform(<lower bound>, <upper bound>)`. We've provided an example below: "
      ],
      "metadata": {
        "id": "0LTH9Ipu7BhJ"
      }
    },
    {
      "cell_type": "code",
      "source": [
        "print(random.uniform(5, 6))"
      ],
      "metadata": {
        "colab": {
          "base_uri": "https://localhost:8080/"
        },
        "id": "qtaues0O7R9C",
        "outputId": "36321a1c-14c8-4954-9622-a5364bafca4b"
      },
      "execution_count": null,
      "outputs": [
        {
          "output_type": "stream",
          "name": "stdout",
          "text": [
            "5.129798584197372\n"
          ]
        }
      ]
    },
    {
      "cell_type": "markdown",
      "source": [
        "Write a new function based on your existing Lotka-Volterra simulations to add random noise to your predator prey systems. A few things to consider: \n",
        "\n",
        "* What upper and lower bounds make sense for your random numbers? Do you want positive or negative effects, or both? Also consider appropriate max and min values as they relate to your time step.\n",
        "* One thing to consider is scaling your max and min to the current population size – it makes sense that a larger population will have larger fluctuations.\n",
        "\n",
        "Plot the populations over the time and the phase diagrams (these in particular look super cool)."
      ],
      "metadata": {
        "id": "fJ2wcDpK8FDt"
      }
    },
    {
      "cell_type": "code",
      "source": [],
      "metadata": {
        "id": "oW6MMpfH8Bi8"
      },
      "execution_count": null,
      "outputs": []
    },
    {
      "cell_type": "markdown",
      "source": [
        "# Advanced Exercise: Three Species 😳 🐕 🐇 🦅\n",
        "\n",
        "Try extending the equations for Lotka-Voltera to work with three species. You can have any relationship between species – two predators that hunt a single prey species; a predator that hunts a predator that hunts a prey species; a preadtor that hunts two prey species; anything works. \n",
        "\n",
        "Write a new function for your three-species model and plot trajectories over time (don't worry about phase diagrams - these would be 3D)"
      ],
      "metadata": {
        "id": "QXwXvw_m9BDz"
      }
    },
    {
      "cell_type": "code",
      "source": [],
      "metadata": {
        "id": "VsVM9ln79Ay3"
      },
      "execution_count": null,
      "outputs": []
    }
  ]
}