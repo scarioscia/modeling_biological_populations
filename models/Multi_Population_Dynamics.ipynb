{
 "cells": [
  {
   "cell_type": "markdown",
   "metadata": {
    "colab_type": "text",
    "id": "view-in-github"
   },
   "source": [
    "<a href=\"https://colab.research.google.com/github/scarioscia/modeling_biological_populations/blob/main/Day_2_Multi_Population_Dynamics.ipynb\" target=\"_parent\"><img src=\"https://colab.research.google.com/assets/colab-badge.svg\" alt=\"Open In Colab\"/></a>"
   ]
  },
  {
   "cell_type": "markdown",
   "metadata": {
    "id": "oZGxebfnyLWz"
   },
   "source": [
    "# In-Class Live Coding"
   ]
  },
  {
   "cell_type": "code",
   "execution_count": null,
   "metadata": {
    "id": "jd1yAWHqyK6Z"
   },
   "outputs": [],
   "source": [
    "import numpy as np\n",
    "import random"
   ]
  },
  {
   "cell_type": "markdown",
   "metadata": {
    "id": "9apwSFciyQin"
   },
   "source": [
    "# Basic Exercise: Lotka-Volterra Predator Prey Dynamics\n",
    "\n",
    "The Lotka-Volterra equation is a classic set of differential equations commonly used to describe predator-prey dynamics. The equation is as follows: \n",
    "\n",
    "\\begin{align}\n",
    "\\frac{\\mathrm{d}x}{\\mathrm{d}t} &= α\\,x -β\\,x\\,y \\\\[1em]\n",
    "\\frac{\\mathrm{d}x}{\\mathrm{d}t} &= δ\\,\\beta\\;x\\;y -γ\\,y \\\\[1em]\n",
    "\\end{align}\n",
    "\n",
    "with the terms defined as such: \n",
    "\n",
    "\\begin{align}\n",
    "x\\;&– \\text{the number of prey} \\\\\n",
    "y\\;&– \\text{the number of predators} \\\\\n",
    "\\alpha\\;&– \\text{the birth rate of prey} \\\\\n",
    "\\beta\\;&– \\text{the predation rate} \\\\\n",
    "\\delta\\;&– \\text{a conversion rate for predation events into birth of new predators} \\\\\n",
    "\\gamma\\;&– \\text{the death rate of predators} \\\\\n",
    "\\end{align}\n",
    "\n",
    "Breaking these down individually: \n",
    "\n",
    "The first equation, $\\frac{\\mathrm{d}x}{\\mathrm{d}t} = α\\,x -β\\,x\\,y$ determines the rate of change of the prey population. It says that the rate of change of prey animals is the difference between the birth of new prey animals ($α\\,x$) and the rate at which they are killed by predators ($β\\,x\\,y$). Note that the rate of predation is proportional to both the number of predators and the number of prey. \n",
    "\n",
    "The second equation, $\\frac{\\mathrm{d}x}{\\mathrm{d}t} = δ\\,\\beta\\;x\\;y -γ\\,y$ determines the rate of change of the predator population. It says that the rate of change of predators is the difference between the birth of new predators ($δ\\,\\beta\\;x$\\;y) and the death of predators ($γ\\,y$). Note that the birth rate of new predators is directly proportional to the rate of predation."
   ]
  },
  {
   "cell_type": "markdown",
   "metadata": {
    "id": "h1p86kCS1jPO"
   },
   "source": [
    "Let's implement this in Python using functions. In your function, you need to establish a timescale that the simulation will operate on. We will use `numpy`, a Python library for mathematics, to do so. (Recall how to use Python libraries and how to add - or `import` it into your notebook here.) \n",
    "\n",
    "I've given you an example of how to create this timescale below. This block of code definies a list of numbers from 0 to 100, sepated by 0.001. "
   ]
  },
  {
   "cell_type": "code",
   "execution_count": null,
   "metadata": {
    "id": "zJrwCojLyQPj"
   },
   "outputs": [],
   "source": [
    "end = 100\n",
    "step = 0.001\n",
    "times = np.arange(0, end, step)"
   ]
  },
  {
   "cell_type": "markdown",
   "metadata": {
    "id": "9I5Aoz9u2coG"
   },
   "source": [
    "In the space below, define a function for your Lotka-Volterra simulation. It must take the following arguments: \n",
    "\n",
    "* step size\n",
    "* end time point \n",
    "* initial number of prey\n",
    "* initial number of predators\n",
    "* birth rate for prey \n",
    "* predation chance \n",
    "* conversion rate of predation events to new predators ($\\delta$ in the equation above)\n",
    "* death rate for predators \n",
    "\n",
    "In your function do the following: \n",
    "\n",
    "1. Establish a range of times to operate on (conveniently done using the `np.arange()` function above).\n",
    "2. Create lists to store the numbers of predators and prey. \n",
    "3. Create a loop that steps through each time point. In this for loop: \n",
    "* Calculate the rate of change for predators and prey using the equations above.\n",
    "* To get the number of predators/prey in the next generation, take the *current* number of predators/prey and add the rate of change multiplied by the step size. \n",
    "* If the number of predators or prey drops below 0, set it equal to 0.\n",
    "* Update your lists of population size. \n",
    "4. Return your lists of population sizes after all time steps are complete.\n",
    "\n",
    "If you want to see the structure of how your code could look, run the hint box below for pseudocode."
   ]
  },
  {
   "cell_type": "code",
   "execution_count": null,
   "metadata": {
    "cellView": "form",
    "id": "qwxeTFsp5CX3"
   },
   "outputs": [],
   "source": [
    "#@title <font color='green'>Run this cell for pseudocode</font>\n",
    "\n",
    "print(\"def <function_name>(arguments):\\n  <set up lists for predators and prey>\\n  <set up a range of times>\\n  for <time in your time range>:\\n    <find the rate of change for predators and prey>\\n    <multiply rate of change by time step and add to current population size\\n    <Ensure that population sizes are non-negative>\\n  return population sizes\")"
   ]
  },
  {
   "cell_type": "code",
   "execution_count": null,
   "metadata": {
    "id": "pW0xmb_d2ca9"
   },
   "outputs": [],
   "source": []
  },
  {
   "cell_type": "markdown",
   "metadata": {
    "id": "MDhOcTXO537c"
   },
   "source": [
    "Now that your function is set up, run it across a range of parameters and create plots tracing the predator and prey population sizes across time. "
   ]
  },
  {
   "cell_type": "code",
   "execution_count": null,
   "metadata": {
    "id": "ZlhlLsHO53w_"
   },
   "outputs": [],
   "source": []
  },
  {
   "cell_type": "markdown",
   "metadata": {
    "id": "tIAB6zct6ZLW"
   },
   "source": [
    "# Advanced Exercise: Phase Diagrams\n",
    "\n",
    "So far we have plotted predator and prey dynamics with time on the x-axis and population size on the y-axis. An alternative way to visualize predator-prey systems is a phase diagram. In a phase diagram, the x-axis is the predator population size and the y-axis is the prey population size (or vice versa). The diagram itself is a line plot. To trace the dynamics of the system over time, start at any point of your phase diagram and trace it. Try creating one below: "
   ]
  },
  {
   "cell_type": "code",
   "execution_count": null,
   "metadata": {
    "id": "ZnXxw5Ku6SJ0"
   },
   "outputs": [],
   "source": []
  },
  {
   "cell_type": "markdown",
   "metadata": {
    "id": "0LTH9Ipu7BhJ"
   },
   "source": [
    "# Advanced Exercise: Randomness in the predator-prey model\n",
    "\n",
    "Currently, our predator-prey simulations are completely deterministic. We can them more exciting by adding random noise. \n",
    "\n",
    "In Python, we can generate pseudo-random numbers using the `random` module. We imported it above with the command `import random`. \n",
    "\n",
    "To draw a random float, we can use `random.uniform(<lower bound>, <upper bound>)`. We've provided an example below: "
   ]
  },
  {
   "cell_type": "code",
   "execution_count": null,
   "metadata": {
    "colab": {
     "base_uri": "https://localhost:8080/"
    },
    "id": "qtaues0O7R9C",
    "outputId": "36321a1c-14c8-4954-9622-a5364bafca4b"
   },
   "outputs": [
    {
     "name": "stdout",
     "output_type": "stream",
     "text": [
      "5.129798584197372\n"
     ]
    }
   ],
   "source": [
    "print(random.uniform(5, 6))"
   ]
  },
  {
   "cell_type": "markdown",
   "metadata": {
    "id": "fJ2wcDpK8FDt"
   },
   "source": [
    "Write a new function based on your existing Lotka-Volterra simulations to add random noise to your predator prey systems. A few things to consider: \n",
    "\n",
    "* What upper and lower bounds make sense for your random numbers? Do you want positive or negative effects, or both? Also consider appropriate max and min values as they relate to your time step.\n",
    "* Consider scaling your max and min values to the current population size – it makes sense that a larger population will have larger fluctuations.\n",
    "\n",
    "Plot the populations over the time and the phase diagrams (these in particular look super cool)."
   ]
  },
  {
   "cell_type": "code",
   "execution_count": null,
   "metadata": {
    "id": "oW6MMpfH8Bi8"
   },
   "outputs": [],
   "source": []
  },
  {
   "cell_type": "markdown",
   "metadata": {
    "id": "QXwXvw_m9BDz"
   },
   "source": [
    "# Advanced Exercise: Three Species 😳 🐕 🐇 🦅\n",
    "\n",
    "Try extending the equations for Lotka-Voltera to work with three species. You can have any relationship between species – two predators that hunt a single prey species; a predator that hunts a predator that hunts a prey species; a predator that hunts two prey species; anything works. \n",
    "\n",
    "Write a new function for your three-species model and plot trajectories over time (don't worry about implementing it as a phase diagrams - these would be 3D. We're ok in the 2D world for this purpose)."
   ]
  },
  {
   "cell_type": "code",
   "execution_count": null,
   "metadata": {
    "id": "VsVM9ln79Ay3"
   },
   "outputs": [],
   "source": []
  }
 ],
 "metadata": {
  "colab": {
   "include_colab_link": true,
   "provenance": []
  },
  "kernelspec": {
   "display_name": "Python 3",
   "language": "python",
   "name": "python3"
  },
  "language_info": {
   "codemirror_mode": {
    "name": "ipython",
    "version": 3
   },
   "file_extension": ".py",
   "mimetype": "text/x-python",
   "name": "python",
   "nbconvert_exporter": "python",
   "pygments_lexer": "ipython3",
   "version": "3.8.5"
  }
 },
 "nbformat": 4,
 "nbformat_minor": 1
}
