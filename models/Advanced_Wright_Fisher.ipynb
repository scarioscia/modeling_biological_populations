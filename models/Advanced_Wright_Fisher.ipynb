{
  "nbformat": 4,
  "nbformat_minor": 0,
  "metadata": {
    "colab": {
      "provenance": [],
      "include_colab_link": true
    },
    "kernelspec": {
      "name": "python3",
      "display_name": "Python 3"
    },
    "language_info": {
      "name": "python"
    }
  },
  "cells": [
    {
      "cell_type": "markdown",
      "metadata": {
        "id": "view-in-github",
        "colab_type": "text"
      },
      "source": [
        "<a href=\"https://colab.research.google.com/github/scarioscia/modeling_biological_populations/blob/main/Day_4_Advanced_Wright_Fisher.ipynb\" target=\"_parent\"><img src=\"https://colab.research.google.com/assets/colab-badge.svg\" alt=\"Open In Colab\"/></a>"
      ]
    },
    {
      "cell_type": "code",
      "execution_count": null,
      "metadata": {
        "id": "GJMjFaouyR1J"
      },
      "outputs": [],
      "source": [
        "import numpy as np\n",
        "import matplotlib.pyplot as plt\n",
        "import random"
      ]
    },
    {
      "cell_type": "markdown",
      "source": [
        "# **Live Coding**"
      ],
      "metadata": {
        "id": "ANEBprwmyuEu"
      }
    },
    {
      "cell_type": "code",
      "source": [
        "def generate_genotype(AF):\n",
        "  if random.uniform(0, 1) < AF:\n",
        "    return 'A'\n",
        "  else: \n",
        "    return 'a'\n",
        "\n",
        "def initialize_population(AF, N):\n",
        "  pop = []\n",
        "  for i in range(N):\n",
        "    pop.append([generate_genotype(AF), generate_genotype(AF)])\n",
        "  return pop\n",
        "\n",
        "def make_mating_pair(pop):\n",
        "  parents_are_different = False\n",
        "  while parents_are_different == False:\n",
        "    parents = random.choices(range(len(pop)) ,k =2)\n",
        "    if parents[0] != parents [1]:\n",
        "      parents_are_different = True\n",
        "  return([pop[parents[0]], pop[parents[1]]])\n",
        "\n",
        "def random_mating(pop, N):\n",
        "  pop_next_gen = []\n",
        "  for i in range(N):\n",
        "    parents = make_mating_pair(pop)\n",
        "    offspring = []\n",
        "    for parent in parents: \n",
        "      offspring.append(random.choice(parent))\n",
        "    pop_next_gen.append(offspring)\n",
        "  return pop_next_gen\n",
        "\n",
        "def get_AF(pop):\n",
        "  A_counter = 0\n",
        "  for individual in pop:\n",
        "    for allele in individual:\n",
        "      if allele == 'A':\n",
        "        A_counter = A_counter + 1\n",
        "  return A_counter / (2 * len(pop))"
      ],
      "metadata": {
        "id": "vA2i1ecOywER"
      },
      "execution_count": null,
      "outputs": []
    },
    {
      "cell_type": "code",
      "source": [
        "def get_weights(pop, s_AA, s_Aa, s_aa):\n",
        "  weights = []\n",
        "  for individual in pop:\n",
        "    if individual[0] == \"A\" and individual[0] == \"A\":\n",
        "      weights.append(s_AA)\n",
        "    elif individual[0] == \"a\" and individual[0] == \"a\":\n",
        "      weights.append(s_aa)\n",
        "    else:\n",
        "      weights.append(s_Aa)\n",
        "  return weights\n",
        "\n",
        "def make_mating_pair_weighted(pop, s_AA, s_Aa, s_aa):\n",
        "  parents_are_different = False\n",
        "  weights = get_weights(pop, s_AA, s_Aa, s_aa)\n",
        "  while parents_are_different == False:\n",
        "    parents = random.choices(range(len(pop)), weights = weights,k =2)\n",
        "    if parents[0] != parents [1]:\n",
        "      parents_are_different = True\n",
        "  return([pop[parents[0]], pop[parents[1]]])\n",
        "\n",
        "def random_mating_weighted(pop, N, s_AA, s_Aa, s_aa):\n",
        "  pop_next_gen = []\n",
        "  for i in range(N):\n",
        "    parents = make_mating_pair_weighted(pop, s_AA, s_Aa, s_aa)\n",
        "    offspring = []\n",
        "    for parent in parents: \n",
        "      offspring.append(random.choice(parent))\n",
        "    pop_next_gen.append(offspring)\n",
        "  return pop_next_gen\n",
        "\n",
        "def WF_selection(AF, N, s_AA, s_Aa, s_aa, n_gens = 100, use_n_gens = False):\n",
        "  # Initialize a population\n",
        "  pop = initialize_population(AF, N)\n",
        "\n",
        "  AF_list = []\n",
        "  AF = get_AF(pop)\n",
        "  AF_list.append(AF)\n",
        "\n",
        "  if use_n_gens == True:\n",
        "    for i in range(n_gens):\n",
        "      pop = random_mating_weighted(pop, N, s_AA, s_Aa, s_aa)\n",
        "      AF = get_AF(pop)\n",
        "      AF_list.append(AF)\n",
        "  else:\n",
        "    while AF < 1 and AF > 0: \n",
        "      # Update population\n",
        "      pop = random_mating_weighted(pop, N, s_AA, s_Aa, s_aa)\n",
        "      AF = get_AF(pop)\n",
        "      AF_list.append(AF)\n",
        "\n",
        "  return AF_list\n",
        "\n",
        "def WF(AF, N, n_gens = 100, use_n_gens = False):\n",
        "  # Initialize a population\n",
        "  pop = initialize_population(AF, N)\n",
        "\n",
        "  AF_list = []\n",
        "  AF = get_AF(pop)\n",
        "  AF_list.append(AF)\n",
        "\n",
        "  if use_n_gens == True:\n",
        "    for i in range(n_gens):\n",
        "      pop = random_mating(pop, N)\n",
        "      AF = get_AF(pop)\n",
        "      AF_list.append(AF)\n",
        "  else:\n",
        "    while AF < 1 and AF > 0: \n",
        "      # Update population\n",
        "      pop = random_mating(pop, N)\n",
        "      AF = get_AF(pop)\n",
        "      AF_list.append(AF)\n",
        "\n",
        "  return AF_list"
      ],
      "metadata": {
        "id": "1odEcGekOvCv"
      },
      "execution_count": null,
      "outputs": []
    },
    {
      "cell_type": "code",
      "source": [
        "AFs = []\n",
        "AFs2 = []\n",
        "time_to_fixation = []\n",
        "time_to_fixation2 = []\n",
        "n_trials = 10\n",
        "for i in range(n_trials):\n",
        "  AF = WF(0.05, 100, use_n_gens = True )\n",
        "  AF2 = WF_selection(AF = 0.05, N = 100, s_AA = 1.03, s_Aa = 1.03, s_aa=1, n_gens = 200, use_n_gens = True)\n",
        "  AFs.append(AF)\n",
        "  time_to_fixation.append(len(AF))\n",
        "  AFs2.append(AF2)\n",
        "  time_to_fixation2.append(len(AF))\n",
        "\n",
        "def get_avg_line(af_list, time):\n",
        "  longest_time = max(time)\n",
        "  for i in range(len(af_list)):\n",
        "    af_list[i] = af_list[i] + [af_list[i][-1]] * (longest_time - len(af_list[i]))\n",
        "  af_list = np.array(af_list, dtype = 'float')\n",
        "  avg_line = np.nanmean(af_list, axis = 0)\n",
        "  return(avg_line)\n",
        "\n",
        "fig ,axs = plt.subplots(2, figsize = (15, 6))\n",
        "for i in range(n_trials):\n",
        "  axs[0].plot(AFs[i], c = 'k')\n",
        "  axs[1].plot(AFs2[i], c ='k')\n",
        "axs[0].plot(get_avg_line(AFs, time_to_fixation), c = 'r')\n",
        "axs[1].plot(get_avg_line(AFs2, time_to_fixation2), c = 'r')\n",
        "plt.xlabel('Generation')\n",
        "plt.ylabel('Frequency')\n",
        "plt.show()"
      ],
      "metadata": {
        "id": "_mvp1fy3O08M"
      },
      "execution_count": null,
      "outputs": []
    },
    {
      "cell_type": "markdown",
      "source": [
        "#**Basic Assignment: Bottlenecks**\n",
        "\n",
        "During live coding, we generated a Wright-Fisher simulation and we modified it to introduce selection. \n",
        "\n",
        "Now let's look at the effect of population size. A **population bottleneck** occurs whenever the population size is reduced dramatically. This happens very often throughout a population's history – environmental disasters are a common source. But also, a population bottleneck often happens during migration – when a smaller group from a population leaves to form a new population, this creates a bottleneck (bottleneck due to migration is called the **founder effect**). \n",
        "\n",
        "Add in a small chance for a bottleneck to happen at any given generation and plot allele frequency trajectories over time. Also create a plot that keeps track of population size. "
      ],
      "metadata": {
        "id": "KN61TnC9ywqW"
      }
    },
    {
      "cell_type": "code",
      "source": [],
      "metadata": {
        "id": "ULG1rjMz1YWK"
      },
      "execution_count": null,
      "outputs": []
    },
    {
      "cell_type": "markdown",
      "source": [
        "#**Advanced Exercise: Bottlenecks and Logistic Growth**\n",
        "\n",
        "After a bottleneck, the population grows back to its carrying capacity, *K*. Modify your functions so that at every generation, your population size updates based on the relationship between the current population size *N* and the carrying capacity *K*. You will likely want *K* be your starting population size. You will also need a growth rate, *r* – have this be a user-defined parameter. \n",
        "\n",
        "This model should have a population where the size crashes and then recovers over time. "
      ],
      "metadata": {
        "id": "y3lkTqlC1Yq1"
      }
    },
    {
      "cell_type": "code",
      "source": [],
      "metadata": {
        "id": "cV4PzxWe1c5I"
      },
      "execution_count": null,
      "outputs": []
    }
  ]
}