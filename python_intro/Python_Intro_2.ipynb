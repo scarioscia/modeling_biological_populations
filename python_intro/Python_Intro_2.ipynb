{
  "nbformat": 4,
  "nbformat_minor": 0,
  "metadata": {
    "colab": {
      "provenance": [],
      "include_colab_link": true
    },
    "kernelspec": {
      "name": "python3",
      "display_name": "Python 3"
    },
    "language_info": {
      "name": "python"
    }
  },
  "cells": [
    {
      "cell_type": "markdown",
      "metadata": {
        "id": "view-in-github",
        "colab_type": "text"
      },
      "source": [
        "<a href=\"https://colab.research.google.com/github/scarioscia/modeling_biological_populations/blob/main/Introduction_to_Python_Part_2.ipynb\" target=\"_parent\"><img src=\"https://colab.research.google.com/assets/colab-badge.svg\" alt=\"Open In Colab\"/></a>"
      ]
    },
    {
      "cell_type": "markdown",
      "source": [
        "# **For Loops**\n",
        "\n",
        "In Python, we will often want to perform an action more than once. For example, if we have a list, we might want to operate on every item within the list one by one. Or, in the context of this course, imagine that we are simulating a population and at every generation, we want run a set of calculations to determine the size of the next generation. \n",
        "\n",
        "One way to do this is to make use of a **for loop**, which is structured like this: \n",
        "\n",
        "```\n",
        "for <temporary_variable> in <thing to loop through>:\n",
        "    {do something}\n",
        "```\n",
        "\n",
        "For example:"
      ],
      "metadata": {
        "id": "iEVmf6UoaCJE"
      }
    },
    {
      "cell_type": "code",
      "source": [
        "my_list = [1, 4, 6, 9, 10, 2]\n",
        "\n",
        "for i in my_list:\n",
        "  print(i)"
      ],
      "metadata": {
        "id": "JS10Yh6q4626"
      },
      "execution_count": null,
      "outputs": []
    },
    {
      "cell_type": "markdown",
      "source": [
        "Here is how the loop works: \n",
        "\n",
        "In the line `for i in my_list:` we are defining the temporary variable `i` (the name of this variable is arbitrary). We are also saying that we are looping through `my_list`. So in this first iteration of the for loop, `i` takes on the value of the first item in `my_list`, that is 1. Now we perform all of the indented code, which here is just a single `print()` statement. \n",
        "\n",
        "Now we go back and set the value of `i` to that of the second entry in `my_list`, or 4. We execute all of the indented code, printing out 4.\n",
        "\n",
        "Now we go back and set the value of `i` to that of the third value in `my_list`, or 6. And we keep on doing this until there is nothing left in `my_list`. \n",
        "\n",
        "In the above example, there was a single indented line, but the for loop can be arbitrarily long. Here is an example of a for loop structured in the same way, but with more going on in the body of the loop:"
      ],
      "metadata": {
        "id": "zdaifJtz5BXl"
      }
    },
    {
      "cell_type": "code",
      "source": [
        "my_list = [1, 4, 6, 9, 10, 2]\n",
        "\n",
        "for i in my_list:\n",
        "  i = i + 3\n",
        "  i = i ** 2\n",
        "  print(i)"
      ],
      "metadata": {
        "id": "SCXFzn995A4Z"
      },
      "execution_count": null,
      "outputs": []
    },
    {
      "cell_type": "markdown",
      "source": [
        "We can also use a for loop to perform an action a set number of times, even when we don’t have a list to loop through. To do so, we can use the `range()` function. We'll use this function a ton throughout the course. When we run the `range()` function with a single integer inside the paranthesis, it generates a sequence of numbers from 0 up to and not including the number provided. So to run a function 3 times, we would provide the for loop with `range(3)` (i.e. `[0, 1, 2]`)."
      ],
      "metadata": {
        "id": "uRtcYmvy7Tlb"
      }
    },
    {
      "cell_type": "code",
      "source": [
        "for i in range(3):\n",
        "  print(i)"
      ],
      "metadata": {
        "id": "HnGvDiHI7TPC"
      },
      "execution_count": null,
      "outputs": []
    },
    {
      "cell_type": "markdown",
      "source": [
        "So far, the body of our for loops has always referenced the temporary variable `i`, but we can also use a for loop to run a block of code repeatedly without actually using the temporary variable. "
      ],
      "metadata": {
        "id": "TfYOYReP8bTc"
      }
    },
    {
      "cell_type": "code",
      "execution_count": null,
      "metadata": {
        "id": "LYdOQBPaZpsS"
      },
      "outputs": [],
      "source": [
        "for i in range(15):\n",
        "  print(\"All work and no play\")"
      ]
    },
    {
      "cell_type": "markdown",
      "source": [
        "**Practice** \n",
        "\n",
        "In the code block, we have provided you with a list. Please print out every entry in the list one by one."
      ],
      "metadata": {
        "id": "9dx7sOZqEW_A"
      }
    },
    {
      "cell_type": "code",
      "source": [
        "plants = [\"Hydrangea\", \"Pothos\", \"Eucalyptus\", \"Anthurium\"]\n",
        "\n",
        "# Your code here\n",
        "\n",
        "\n"
      ],
      "metadata": {
        "id": "dhEZSR0sElN3"
      },
      "execution_count": null,
      "outputs": []
    },
    {
      "cell_type": "code",
      "source": [
        "#@title <font color='green'>Run this cell for the solution</font>\n",
        "\n",
        "print(\"CODE:\\n\\nplants = [\\\"Hydrangea\\\", \\\"Pothos\\\", \\\"Eucalyptus\\\", \\\"Anthurium\\\"]\\n\\nfor i in plants:\\n  print(i)\\n\\nRESULT:\\n\")\n",
        "\n",
        "plants = [\"Hydrangea\", \"Pothos\", \"Eucalyptus\", \"Anthurium\"]\n",
        "\n",
        "for i in plants:\n",
        "  print(i)"
      ],
      "metadata": {
        "cellView": "form",
        "id": "FH-_saK4FG7I"
      },
      "execution_count": null,
      "outputs": []
    },
    {
      "cell_type": "markdown",
      "source": [
        "**Practice** \n",
        "\n",
        "Make a list of numbers (intergers and/or floats)\n",
        "\n",
        "For every number in the list:\n",
        "\n",
        "* Find the product of that number and the **last** number in the list\n",
        "* Take the square root of the product\n",
        "* Print the result"
      ],
      "metadata": {
        "id": "ufyw0eQQ85Gi"
      }
    },
    {
      "cell_type": "code",
      "source": [
        "# Your solution here\n",
        "\n",
        "\n",
        "\n",
        "\n"
      ],
      "metadata": {
        "id": "inRLTMpmAuQS"
      },
      "execution_count": null,
      "outputs": []
    },
    {
      "cell_type": "code",
      "source": [
        "#@title <font color='green'>Run this cell for the solution</font>\n",
        "\n",
        "print(\"Code:\\n\\nnumbers_list = [3.4, 123, 91, 2]\\n\\nfor i in numbers_list:\\n  i = i * numbers_list[-1]\\n  i = i ** 0.5\\n  print(i)\\n\\nResult:\\n\")\n",
        "\n",
        "numbers_list = [3.4, 123, 91, 2]\n",
        "\n",
        "for i in numbers_list:\n",
        "  i = i * numbers_list[-1]\n",
        "  i = i ** 0.5\n",
        "  print(i)"
      ],
      "metadata": {
        "cellView": "form",
        "id": "CSvyQyIK2OP8"
      },
      "execution_count": null,
      "outputs": []
    },
    {
      "cell_type": "markdown",
      "source": [
        "# **Conditionals**\n",
        "\n",
        "Sometimes, we only want to perform an operation if a condition is met. To do this, we can use the `if` statement, which is structured as such:\n",
        "\n",
        "```\n",
        "if <condition>:\n",
        "    {do something}\n",
        "```\n",
        "\n",
        "The `<condition>` above is a statement that evaluates to a Boolean (i.e. `True` or `False`). As such, the comparison expressions we have seen previously (`>`, `==`, `!=`, `<=`, etc.) are common components of an if statement. For example: "
      ],
      "metadata": {
        "id": "tK9G19WG_0wp"
      }
    },
    {
      "cell_type": "code",
      "source": [
        "my_number = 3 \n",
        "\n",
        "if my_number < 4:\n",
        "  print(\"Less than 4\")\n",
        "\n",
        "if my_number > 5:\n",
        "  print(\"Greater than 5\")"
      ],
      "metadata": {
        "id": "c0gLMjyM-X-q"
      },
      "execution_count": null,
      "outputs": []
    },
    {
      "cell_type": "markdown",
      "source": [
        "The first statement is true - 3 is less than 4. As a result, the first print statement is executed. The second statement is false. It is therefore not executed. \n",
        "\n",
        "Another useful condition to check is whether an item is part of a larger data strucutre, such as a list. For this, we can use `in`:"
      ],
      "metadata": {
        "id": "yT4TxsySB6Mg"
      }
    },
    {
      "cell_type": "code",
      "source": [
        "first_number = 3\n",
        "second_number = 5\n",
        "list_1 = [2,3,4]\n",
        "\n",
        "if first_number in list_1:\n",
        "  print(\"first number is in the list\")\n",
        "\n",
        "if second_number in list_1:\n",
        "  print(\"second number is in the list\")"
      ],
      "metadata": {
        "id": "6rA9FZF7B4zn",
        "colab": {
          "base_uri": "https://localhost:8080/"
        },
        "outputId": "f4a1b348-1226-4da0-fd98-260ba7562876"
      },
      "execution_count": null,
      "outputs": [
        {
          "output_type": "stream",
          "name": "stdout",
          "text": [
            "first number is in the list\n"
          ]
        }
      ]
    },
    {
      "cell_type": "markdown",
      "source": [
        "# **Else and Else If**\n",
        "\n",
        "What if we want to perform an action if a condition is met, and a different action if the condition is not met? \n",
        "\n",
        "We can do this using the Else statement: \n",
        "\n",
        "```\n",
        "if <condition>:\n",
        "  {do something}\n",
        "else:\n",
        "  {do something different}\n",
        "```\n",
        "\n",
        "For example, we can imagine a scenario in which the birth rate in a population depends on the current population size, where we can set the birth rate to one of two values whether the current population is above or below a threshold:"
      ],
      "metadata": {
        "id": "lQH9lqZOCcnx"
      }
    },
    {
      "cell_type": "code",
      "source": [
        "current_pop_size = 450\n",
        "\n",
        "if current_pop_size >= 500:\n",
        "  birth_rate = 0.6\n",
        "else:\n",
        "  birth_rate = 0.2\n",
        "\n",
        "print(birth_rate)"
      ],
      "metadata": {
        "id": "qg0v41EBBnmS"
      },
      "execution_count": null,
      "outputs": []
    },
    {
      "cell_type": "markdown",
      "source": [
        "What if we want to check more than one condition? For this, we have the else if statement, which is stuctured as such:\n",
        "```\n",
        "if <condition>:\n",
        "  {do something}\n",
        "elif <second condition>:\n",
        "  {do something different}\n",
        "```\n",
        "\n",
        "We can string together any number of else if statments. Going back to our birth rate example, what if instead of just two possible birth rates, we wanted a gradiet of options? We could write something like this:\n"
      ],
      "metadata": {
        "id": "WeijQeK7Gk4w"
      }
    },
    {
      "cell_type": "code",
      "source": [
        "current_pop_size = 450\n",
        "\n",
        "if current_pop_size >= 500:\n",
        "  birth_rate = 0.6\n",
        "elif current_pop_size >= 400:\n",
        "  birth_rate = 0.5\n",
        "elif current_pop_size >= 300:\n",
        "  birth_rate = 0.3\n",
        "else:\n",
        "  birth_rate = 0.2\n",
        "\n",
        "print(birth_rate)"
      ],
      "metadata": {
        "id": "C934b2fgGeWU"
      },
      "execution_count": null,
      "outputs": []
    },
    {
      "cell_type": "markdown",
      "source": [
        "Here, the first statement is false (population size is less than 500), so we move on. The second statement is true (the population size is greater than 400). We set the birth rate to 0.5, and **all subsequent elif and else statements are ignored**. \n",
        "\n",
        "Notice that the second `elif` statement (`elif current_pop_size >= 300`) is true. But we never actually evaluate this – once we hit a single true statement, the following elif statements are not evaluated. "
      ],
      "metadata": {
        "id": "AeqR5bgZJ_R_"
      }
    },
    {
      "cell_type": "markdown",
      "source": [
        "# **Multiple Conditions**\n",
        "\n",
        "One last thing about conditionals – what if we want to check more than one condition? For example, imagine that we want to check if the current population size is above a threshold and also that there population of a predator species is below a different threshold? We can use `and` and `or` statement to take multiple conditionals and reduce them to a single Boolean `True` or `False`. \n",
        "\n",
        "The general sytnax for these is:\n",
        "\n",
        "```\n",
        "(Statement 1) and (Statement 2)\n",
        "(Statement 1) or (Statement 2)\n",
        "```\n",
        "\n",
        "`And` statements evaluate to `True` only if **both** statements are `True`. "
      ],
      "metadata": {
        "id": "UBeHu-NkK2U9"
      }
    },
    {
      "cell_type": "code",
      "source": [
        "print(True and True)\n",
        "print(False and True)\n",
        "print(True and False)\n",
        "print(False and False)"
      ],
      "metadata": {
        "id": "dtsF_hBAJ9Bs"
      },
      "execution_count": null,
      "outputs": []
    },
    {
      "cell_type": "markdown",
      "source": [
        "The same done with expressions rather than Booleans:"
      ],
      "metadata": {
        "id": "5uMhCn4HRDTY"
      }
    },
    {
      "cell_type": "code",
      "source": [
        "print((10/2 == 5) and (3 > 2))          # True and True\n",
        "print(('a' == \"A\") and (3 > 2))         # False and True\n",
        "print((2**3 == 8) and (1 + 2 != 3))     # True and False\n",
        "print(('a' == \"A\") and (1 + 2 != 3))    # False and False"
      ],
      "metadata": {
        "id": "plFia_PRI06v"
      },
      "execution_count": null,
      "outputs": []
    },
    {
      "cell_type": "markdown",
      "source": [
        "`Or` statements evaluate to `True` as long as **at least one** statement is true:"
      ],
      "metadata": {
        "id": "uG65z_v3Ritc"
      }
    },
    {
      "cell_type": "code",
      "source": [
        "print(True or True)\n",
        "print(False or True)\n",
        "print(True or False)\n",
        "print(False or False)"
      ],
      "metadata": {
        "id": "D474EfseRidP"
      },
      "execution_count": null,
      "outputs": []
    },
    {
      "cell_type": "markdown",
      "source": [
        "And with the same expressions as above:"
      ],
      "metadata": {
        "id": "-QsFR7K9R1W-"
      }
    },
    {
      "cell_type": "code",
      "source": [
        "print((10/2 == 5) or (3 > 2))          # True or True\n",
        "print(('a' == \"A\") or (3 > 2))         # False or True\n",
        "print((2**3 == 8) or (1 + 2 != 3))     # True or False\n",
        "print(('a' == \"A\") or (1 + 2 != 3))    # False or False"
      ],
      "metadata": {
        "id": "49wO3_Z_RMvW"
      },
      "execution_count": null,
      "outputs": []
    },
    {
      "cell_type": "markdown",
      "source": [
        "**Practice**\n",
        "\n",
        "In the code block below, use a combination of mathematical expressions and string comparisons to test out combinations of `True` and `False` statements with `and` and `or` statements."
      ],
      "metadata": {
        "id": "b6fTVJiKEWfh"
      }
    },
    {
      "cell_type": "code",
      "source": [
        "# Your code here\n",
        "\n",
        "\n",
        "\n",
        "\n"
      ],
      "metadata": {
        "id": "IUDZCTi7Fem3"
      },
      "execution_count": null,
      "outputs": []
    },
    {
      "cell_type": "markdown",
      "source": [
        "#**Combining For Loops and Conditionals**\n",
        "\n",
        "Very often, we will want to loop through a list and perform an action only on the elements that meet a certain criteria. When we want to do so, we can use a combination of For loops and Conditional statements, like this block of code, where we loop through a list and only print out the values that are greater than 30: "
      ],
      "metadata": {
        "id": "erFQNBdoS4_R"
      }
    },
    {
      "cell_type": "code",
      "source": [
        "my_numbers = [15, 13, 12, 72, 40]\n",
        "\n",
        "for i in my_numbers:\n",
        "  if i > 30:\n",
        "    print(i)\n",
        "  else:\n",
        "    print(\"Too low\")"
      ],
      "metadata": {
        "id": "al1Jq6ayR5By"
      },
      "execution_count": null,
      "outputs": []
    },
    {
      "cell_type": "markdown",
      "source": [
        "#**A really useful structure**\n",
        "\n",
        "And finally, we wanted to show you a super common structure that we make use of a lot. Very often, we will want to repeatedly modify an object. A general structure to do this is to initialize the object, then create a for loop where it is modified. \n",
        "\n",
        "A simple case is creating a numeric variable and updating it in a loop:\n",
        "\n"
      ],
      "metadata": {
        "id": "Gv5a49K7TABL"
      }
    },
    {
      "cell_type": "code",
      "source": [
        "my_num = 2\n",
        "\n",
        "for i in range(4):\n",
        "  my_num = my_num**2\n",
        "\n",
        "print(my_num)"
      ],
      "metadata": {
        "id": "gi6PrQASBpLY"
      },
      "execution_count": null,
      "outputs": []
    },
    {
      "cell_type": "markdown",
      "source": [
        "\n",
        "Here, we made an integer and four times in a row took the square of it. For a more interesting case, we can make an empty list and use a for loop to populate it with entries. In the code block below, we create an empty list and then use a for loop to add into it the square of every single-digit integer.\n"
      ],
      "metadata": {
        "id": "af9_C_73Bpgp"
      }
    },
    {
      "cell_type": "code",
      "source": [
        "squares = []\n",
        "\n",
        "for i in range(10):\n",
        "  squares.append(i**2)\n",
        "\n",
        "print(squares)"
      ],
      "metadata": {
        "id": "WTChiScnUVcw"
      },
      "execution_count": null,
      "outputs": []
    },
    {
      "cell_type": "code",
      "source": [],
      "metadata": {
        "id": "ptlkRClwUePy"
      },
      "execution_count": null,
      "outputs": []
    }
  ]
}