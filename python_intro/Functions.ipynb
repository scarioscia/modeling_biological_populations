{
  "nbformat": 4,
  "nbformat_minor": 0,
  "metadata": {
    "colab": {
      "provenance": [],
      "authorship_tag": "ABX9TyP1gMVG5FiEUJOYvsv4rGbU",
      "include_colab_link": true
    },
    "kernelspec": {
      "name": "python3",
      "display_name": "Python 3"
    },
    "language_info": {
      "name": "python"
    }
  },
  "cells": [
    {
      "cell_type": "markdown",
      "metadata": {
        "id": "view-in-github",
        "colab_type": "text"
      },
      "source": [
        "<a href=\"https://colab.research.google.com/github/scarioscia/modeling_biological_populations/blob/main/Functions%2C_iterating_over_variables.ipynb\" target=\"_parent\"><img src=\"https://colab.research.google.com/assets/colab-badge.svg\" alt=\"Open In Colab\"/></a>"
      ]
    },
    {
      "cell_type": "markdown",
      "source": [
        "# Creating your own functions"
      ],
      "metadata": {
        "id": "LhKWIzB0Y0es"
      }
    },
    {
      "cell_type": "markdown",
      "source": [
        "A function has a few main components. \n",
        "- `def` at the beginning communicates to Python that you are about to define a function. \n",
        "- `function_name` is literally the name of your function; when choosing a name, consider what the function will do and pick a name that will be intuitive and easy to remember.\n",
        "- `argument1`, `arugment2`, and `argument3` are all values that are passed to your function. These are the values that your function will act on (i.e., use). \n",
        "- `return` is a built-in function in Python; it takes its argument (in this case, `variable`) and returns it back to your computer. In general you will want your function to compute something. The `return` statement is how you save that thing you computed for future use and analysis. "
      ],
      "metadata": {
        "id": "oMvTpmiVaG_T"
      }
    },
    {
      "cell_type": "code",
      "source": [
        "# Don't run this block; you'll get an error \n",
        "\n",
        "# syntax of a function: \n",
        "def function_name(argument1, argument2, argument3):\n",
        "  # What you want your function to do \n",
        "\n",
        "  # what you want your function to give back \n",
        "  return(variable)"
      ],
      "metadata": {
        "id": "YhjYgdTAY5Yi"
      },
      "execution_count": null,
      "outputs": []
    },
    {
      "cell_type": "code",
      "source": [
        "# Example: make yourself a function that doubles whatever number you give it\n",
        "def double_number(my_number):\n",
        "  doubled = my_number * 2\n",
        "  return(doubled)\n",
        "  # this is you DEFINING your functino. You're saying what it is, but it's not actually doing anything "
      ],
      "metadata": {
        "id": "pzSrTv0FY55a"
      },
      "execution_count": null,
      "outputs": []
    },
    {
      "cell_type": "markdown",
      "source": [
        "Now that you've defined the function, you can \"call\" the function by passing it an argument: "
      ],
      "metadata": {
        "id": "cJqUGB5katoZ"
      }
    },
    {
      "cell_type": "code",
      "source": [
        "double_number(2) #this is you CALLING a function \n",
        "# you're executing your function on the number 2 "
      ],
      "metadata": {
        "colab": {
          "base_uri": "https://localhost:8080/"
        },
        "id": "a0GaJwSXZAuW",
        "outputId": "4c5c7580-44c0-49be-ab46-57a02ebf23da"
      },
      "execution_count": null,
      "outputs": [
        {
          "output_type": "execute_result",
          "data": {
            "text/plain": [
              "4"
            ]
          },
          "metadata": {},
          "execution_count": 7
        }
      ]
    },
    {
      "cell_type": "markdown",
      "source": [
        "Usually, you'll want to do something with the value returned from your function (instead of just printing it to your screen as in the above cell). To save it as a variable, you simply assign it to the variable name of your choice: "
      ],
      "metadata": {
        "id": "P3T4Rx3eZDX2"
      }
    },
    {
      "cell_type": "code",
      "source": [
        "doubled = double_number(85)\n",
        "print(doubled) # view your output "
      ],
      "metadata": {
        "colab": {
          "base_uri": "https://localhost:8080/"
        },
        "id": "PXE2tzPyZBWu",
        "outputId": "c8882792-d31a-432f-ff9b-0d33a8da9130"
      },
      "execution_count": null,
      "outputs": [
        {
          "output_type": "stream",
          "name": "stdout",
          "text": [
            "170\n"
          ]
        }
      ]
    },
    {
      "cell_type": "markdown",
      "source": [
        "If you want to iterate your function over numerous inputs, a standard notation would be to use a `list` and a `for loop`, as we did yesterday. For example: "
      ],
      "metadata": {
        "id": "WEjlMDf9ZTi9"
      }
    },
    {
      "cell_type": "code",
      "source": [
        "for i in [1, 3, 5, 7]: # make a list of these four values \n",
        "  var = double_number(i) # call your function on each of these four values \n",
        "  print(var) # print the output if you're curious "
      ],
      "metadata": {
        "colab": {
          "base_uri": "https://localhost:8080/"
        },
        "id": "60C3laSPZljC",
        "outputId": "68fdc1ad-908b-4f2c-986d-da4d9272dad8"
      },
      "execution_count": null,
      "outputs": [
        {
          "output_type": "stream",
          "name": "stdout",
          "text": [
            "2\n",
            "6\n",
            "10\n",
            "14\n"
          ]
        }
      ]
    },
    {
      "cell_type": "markdown",
      "source": [
        "A function is useful because it allows you to conduct the same math or code lines on different input variables, without changing too much of your script. In fact, all you have to change is the argument - the number you are passing to the function (i.e., is in the parentheses). \n",
        "\n",
        "Recall the code for our logistic model we learned yesterday and reviewed early. See if you can use this code to make a function that will compute the population sizes of a logistic model (I recommend you name the function `logistic_model`). "
      ],
      "metadata": {
        "id": "lsq74QzoZo76"
      }
    },
    {
      "cell_type": "code",
      "source": [
        "# Here is the code for the logistic \n",
        "# Using this code, create a custom function for the logistic model \n",
        "\n",
        "# Defining variables\n",
        "N = 100                # Initial Population Size \n",
        "L = 1.5               # Geometric growth rate\n",
        "N_generations = 50    # How many time points do we want to simulate?\n",
        "K = 1000               # Carrying Capacity\n",
        "\n",
        "# A list that keeps track of our population size at every generation\n",
        "pop_sizes_list = [N]\n",
        "\n",
        "for i in range(N_generations - 1):\n",
        "  N = L * (1-N/K) * N \n",
        "  pop_sizes_list.append(N)"
      ],
      "metadata": {
        "id": "h8EoDqFyZ76s"
      },
      "execution_count": null,
      "outputs": []
    },
    {
      "cell_type": "code",
      "source": [
        "# Your function logistic_model() here "
      ],
      "metadata": {
        "id": "fXzbPzFDaALV"
      },
      "execution_count": null,
      "outputs": []
    },
    {
      "cell_type": "code",
      "source": [
        "#@title <font color='green '>Run this cell to see the code for the logistic_model() function\n",
        "\n",
        "def logistic_model(N, L, N_generations, K):\n",
        "  pop_sizes_list = [N]\n",
        "\n",
        "  for i in range(N_generations - 1):\n",
        "    N = L * (1-N/K) * N\n",
        "    pop_sizes_list.append(N)\n",
        "  return(pop_sizes_list)\n",
        "\n"
      ],
      "metadata": {
        "id": "YpYvmYAqaCe4"
      },
      "execution_count": null,
      "outputs": []
    },
    {
      "cell_type": "code",
      "source": [
        "#@title <font color='green '>Run this cell for an explanation of the logistic_model() function \n",
        "\n",
        "# The arguments are the same as the variables used yesterday: N (initial population size), L (lambda, the geometric growth rate), N_generations (the number of generations you'd like to simulate over for your model), and K (the carrying capacity of this population)\n",
        "# You still initialize a list that will hold the population size at the end of each generation, starting with the initial population size (i.e., the size for generation 1)\n",
        "# You then execute a for loop to complete the number of generations (the -1 is because you started with the initial population size). For each generation, you use the logistic equation to compute a new population size. You then append that to the list of population sizes. \n",
        "# Finally, you return that list of population sizes for future use (e.g., you could plot it, you could investiate the average and minimum and maximum population sizes, etc.)"
      ],
      "metadata": {
        "id": "zfOIabpcbEXD"
      },
      "execution_count": null,
      "outputs": []
    },
    {
      "cell_type": "markdown",
      "source": [
        "## Plot outputs of functions \n",
        "\n",
        "As you compute this list for each of the lambda values, you might be curious about how to plot them. Update the code you wrote above, creating a plot for the population size under each lambda (so if you are testing four lambda values, you should create four plots). \n",
        "\n",
        "The code syntax for plotting that you covered yesterday in the homework and earlier today is here for your reference. Take a minute to add a comment above each line explaining what you're doing and why. "
      ],
      "metadata": {
        "id": "B-zAKxVHb-iW"
      }
    },
    {
      "cell_type": "code",
      "source": [
        "import matplotlib.pyplot as plt\n",
        "\n",
        "fig, ax = plt.subplots(figsize=(7,7))\n",
        "plt.plot(range(N_generations), pop_sizes_list)\n",
        "plt.xlabel('Generation')\n",
        "plt.ylabel('Population Size')"
      ],
      "metadata": {
        "colab": {
          "base_uri": "https://localhost:8080/",
          "height": 460
        },
        "id": "8rukHM9Fcv5C",
        "outputId": "f1d3b44d-4f00-4768-f4fc-929d18c63ecc"
      },
      "execution_count": null,
      "outputs": [
        {
          "output_type": "execute_result",
          "data": {
            "text/plain": [
              "Text(0, 0.5, 'Population Size')"
            ]
          },
          "metadata": {},
          "execution_count": 12
        },
        {
          "output_type": "display_data",
          "data": {
            "text/plain": [
              "<Figure size 504x504 with 1 Axes>"
            ],
            "image/png": "[encoded data removed]"
          },
          "metadata": {
            "needs_background": "light"
          }
        }
      ]
    },
    {
      "cell_type": "code",
      "source": [
        "#@title <font color='green '>Run this cell for annotated plotting code \n",
        "\n",
        "# import library so we can use its functions \n",
        "# the \"as plt\" allows us to use plt to refer back to the library when we use its functions, instead of having to type the entire name every time  \n",
        "import matplotlib.pyplot as plt\n",
        "\n",
        "# create the blank canvas for your plots (7,7 is the dimensions)\n",
        "fig, ax = plt.subplots(figsize=(7,7))\n",
        "# plot your line with N_generations as your x coordinates and the values in pop_sizes_list as your y coordinates \n",
        "plt.plot(range(N_generations), pop_sizes_list)\n",
        "# label your x axis\n",
        "plt.xlabel('Generation')\n",
        "# label your y axis \n",
        "plt.ylabel('Population Size')"
      ],
      "metadata": {
        "colab": {
          "base_uri": "https://localhost:8080/",
          "height": 460
        },
        "id": "U-taQ1fkdNGg",
        "outputId": "377ac2c7-c6dc-4424-e648-ac9780e7379b"
      },
      "execution_count": null,
      "outputs": [
        {
          "output_type": "execute_result",
          "data": {
            "text/plain": [
              "Text(0, 0.5, 'Population Size')"
            ]
          },
          "metadata": {},
          "execution_count": 13
        },
        {
          "output_type": "display_data",
          "data": {
            "text/plain": [
              "<Figure size 504x504 with 1 Axes>"
            ],
            "image/png": "[encoded data removed]"
          },
          "metadata": {
            "needs_background": "light"
          }
        }
      ]
    },
    {
      "cell_type": "markdown",
      "source": [
        "## Test different values in your function \n",
        "\n",
        "Functions allow you to easily investigate different variable inputs and how they effect your overall calculation. For example, recall in the exercise from yesterday's assignment that we considered various values for lambda. Now that we have the logistic model as a function, you can easily call your function on each of those lambda values. Try that on your own first. "
      ],
      "metadata": {
        "id": "AupLSWFpbyM0"
      }
    },
    {
      "cell_type": "code",
      "source": [
        "# Call your logistic_model() function on each of four lambdas "
      ],
      "metadata": {
        "id": "RR8bTPjrcAQN"
      },
      "execution_count": null,
      "outputs": []
    },
    {
      "cell_type": "code",
      "source": [
        "#@title <font color='green '>Run this cell for code on how to call your function on each of four lambdas  \n",
        "\n",
        "# Use your function over a range of lambda values \n",
        "lambdas = [0.5, 1.5, 3.1, 3.8]\n",
        "N_generations = 50\n",
        "\n",
        "for item in lambdas:\n",
        "  logistic_pops = logistic_model(100, item, N_generations, 1000) # call your function, keeping all parameters, but using item for lambda instead of L \n",
        "  print(logistic_pops)\n"
      ],
      "metadata": {
        "colab": {
          "base_uri": "https://localhost:8080/"
        },
        "id": "6cy4lKd-cESe",
        "outputId": "760baca7-48be-46cc-b066-6fbf99ce4350"
      },
      "execution_count": null,
      "outputs": [
        {
          "output_type": "stream",
          "name": "stdout",
          "text": [
            "[100, 45.0, 21.4875, 10.512893671875, 5.201186369259426, 2.5870670148058275, 1.2901870495333656, 0.6442612334552911, 0.3219230804591789, 0.16090972299472328, 0.08044191552788452, 0.04021772231305536, 0.020108052423933653, 0.010053824045080685, 0.005026861482851378, 0.002513418106757505, 0.0012567058947434628, 0.0006283521577168784, 0.00031417588144522213, 0.00015708789136936881, 7.85439333463816e-05, 3.927196358861607e-05, 1.9635981023164472e-05, 9.81799031879636e-06, 4.908995111201713e-06, 2.45449754355174e-06, 1.2272487687635908e-06, 6.136243836287256e-07, 3.068121916260954e-07, 1.5340609576598083e-07, 7.67030478712237e-08, 3.835152393267017e-08, 1.9175761965599665e-08, 9.587880982615977e-09, 4.7939404912620245e-09, 2.3969702456195215e-09, 1.198485122806888e-09, 5.992425614027258e-10, 2.9962128070118333e-10, 1.4981064035054677e-10, 7.490532017526216e-11, 3.745266008762828e-11, 1.8726330043813438e-11, 9.363165021906543e-12, 4.681582510953228e-12, 2.340791255476603e-12, 1.1703956277382987e-12, 5.851978138691486e-13, 2.9259890693457416e-13, 1.4629945346728703e-13]\n",
            "[100, 135.0, 175.1625, 216.720897890625, 254.62942546215945, 284.689921726455, 305.4623552907599, 318.23265718647224, 325.44094962976425, 329.29370690076223, 331.2890422444757, 332.30491909982055, 332.8175397628234, 333.0750374835672, 333.2040853333313, 333.26868427576403, 333.30100253529776, 333.31716636639476, 333.3252494578078, 333.32929129754694, 333.33131229093306, 333.3323228060063, 333.33282806813804, 333.33308070035275, 333.33320701674734, 333.33327017501637, 333.3333017541689, 333.3333175437496, 333.3333254385411, 333.33332938593713, 333.3333313596352, 333.3333323464843, 333.3333328399088, 333.33333308662105, 333.3333332099772, 333.33333327165525, 333.3333333024943, 333.3333333179138, 333.3333333256236, 333.3333333294784, 333.3333333314059, 333.3333333323696, 333.33333333285145, 333.33333333309247, 333.33333333321286, 333.3333333332731, 333.33333333330324, 333.33333333331825, 333.3333333333258, 333.33333333332956]\n",
            "[100, 279.0, 623.5929, 727.646864715729, 614.3484054538058, 734.4657707275334, 604.5799873071456, 741.0953813899954, 594.8063529244793, 747.1364418799932, 585.66309519418, 752.251685777434, 577.7441697695725, 756.2631166072036, 571.4205667069645, 759.1872182188936, 566.7481563270501, 761.1885192435129, 563.5197279876813, 762.49225688475, 561.4032267342063, 763.3118956145458, 560.067221446411, 763.8149796138941, 559.245135247094, 764.1190432436159, 558.7475060878386, 764.3010646382239, 558.4493364164144, 764.4093927246904, 558.2717864207773, 764.4736366127272, 558.1664561642013, 764.511656469624, 558.1041091342566, 764.5341287553147, 558.0672536433665, 764.5474015683825, 558.0454842025925, 764.5552374674282, 558.0326316185132, 764.5598623690329, 558.0250455921631, 764.5625916604849, 558.0205687910513, 764.564202151205, 558.0179271142986, 764.5651524134158, 558.0163683982448, 764.5657130934252]\n",
            "[100, 342.0, 855.1367999999999, 470.7358424858882, 946.7457145229589, 191.58941291040958, 588.5550571300058, 920.2004070554653, 279.04014805960065, 764.4716265558119, 684.208083238308, 821.0560518647408, 558.3074439318947, 937.08091953209, 224.04902516773433, 660.6340260586646, 851.9474967543001, 479.30524620785116, 948.372563228833, 186.05576926570333, 575.4682759568726, 928.3572494315697, 252.73825406579584, 717.6741901907625, 769.9481983142239, 673.0862868622369, 836.1563217409249, 520.5959239437248, 948.3880700842362, 186.00292670330953, 575.3421842522285, 928.4295100339924, 252.50298874172603, 717.2318717892429, 770.6791927399794, 671.5845435470056, 838.1232287799098, 515.5561922059052, 949.0804185594011, 183.64175513274998, 569.6863514371497, 931.5464872088364, 242.31699163531178, 697.6779753604712, 801.5089886180626, 604.5508531735493, 908.4626525825952, 316.0013934917226, 821.349148651446, 557.5919537117654]\n"
          ]
        }
      ]
    },
    {
      "cell_type": "markdown",
      "source": [
        "## Saving the output from every iteration of the function \n",
        "\n",
        "You'll notice that if you print the list of population sizes now, it'll just give you a single list, even though you generated four unique lists. Try that below: "
      ],
      "metadata": {
        "id": "0Esf95audt6w"
      }
    },
    {
      "cell_type": "code",
      "source": [
        "# Print `logistic_pops`"
      ],
      "metadata": {
        "id": "lIZNtNEiiRb7"
      },
      "execution_count": null,
      "outputs": []
    },
    {
      "cell_type": "code",
      "source": [
        "Can you think of how to keep all four lists, so you can work with them later (e.g., compare them, plot them, etc.)? "
      ],
      "metadata": {
        "id": "tFKpyP4XiTC_"
      },
      "execution_count": null,
      "outputs": []
    },
    {
      "cell_type": "code",
      "source": [
        "# Update the code above to save the information from all four lists "
      ],
      "metadata": {
        "id": "wWAJpK9cds8T"
      },
      "execution_count": null,
      "outputs": []
    },
    {
      "cell_type": "code",
      "source": [
        "#@title <font color='green '>Run this cell for code on how to save all four lists \n",
        "\n",
        "# Use your function over a range of lambda values \n",
        "lambdas = [0.5, 1.5, 3.1, 3.8]\n",
        "# Define the number of generations \n",
        "N_generations = 50\n",
        "# define list where you will save all iterations of your function \n",
        "all_lambdas_popsize = []\n",
        "\n",
        "for item in lambdas:\n",
        "  # use your function to generate the list of population sizes over time \n",
        "  logistic_pops = logistic_model(100, item, N_generations, 1000) # call your function, keeping all parameters\n",
        "  # append the list to the larger list of population sizes for all lambdas \n",
        "  all_lambdas_popsize.append(logistic_pops)\n"
      ],
      "metadata": {
        "id": "RKxNNFDQeknp"
      },
      "execution_count": null,
      "outputs": []
    },
    {
      "cell_type": "markdown",
      "source": [
        "Investigate your outcome. Remember that you can use the `len` function. Think about what you expect the `len` to be; if the output doesn't match your expectation/ideal scenario, modify your code. "
      ],
      "metadata": {
        "id": "q__8NoNye4Gh"
      }
    },
    {
      "cell_type": "code",
      "source": [
        "# Print your outcome list to investigate it, see how long it is, etc.\n",
        "\n",
        "# Use `len()` to confirm that your code above was successful "
      ],
      "metadata": {
        "id": "zr5qk_2Ne_ba"
      },
      "execution_count": null,
      "outputs": []
    },
    {
      "cell_type": "code",
      "source": [
        "#@title <font color='green '>Run this cell for code on using `len()` to debug \n",
        "\n",
        "# Use your function over a range of lambda values \n",
        "lambdas = [0.5, 1.5, 3.1, 3.8]\n",
        "N_generations = 50\n",
        "# define larger list \n",
        "all_lambdas_popsize = []\n",
        "\n",
        "for item in lambdas:\n",
        "  logistic_pops = logistic_model(100, item, N_generations, 1000) # call your function, keeping all parameters\n",
        "  \n",
        "  print(len(logistic_pops)) # this should be the number of generations \n",
        "  print(logistic_pops) # this should show one single list \n",
        "  \n",
        "  all_lambdas_popsize.append(logistic_pops)\n",
        "\n",
        "print(len(all_lambdas_popsize)) # this should be equal to the number of variables in lambdas (in this example, 4)\n",
        "print(all_lambdas_popsize) # you should see that each item in the list is also a list (indicated by square brackets, [])\n",
        "print(len(all_lambdas_popsize[1])) # you can investigate each entry in all_lambdas_popsize \n"
      ],
      "metadata": {
        "colab": {
          "base_uri": "https://localhost:8080/"
        },
        "id": "VJB9O0ErfCkN",
        "outputId": "445ed6ef-9c2f-43f4-fb68-80d6157fb510"
      },
      "execution_count": null,
      "outputs": [
        {
          "output_type": "stream",
          "name": "stdout",
          "text": [
            "50\n",
            "[100, 45.0, 21.4875, 10.512893671875, 5.201186369259426, 2.5870670148058275, 1.2901870495333656, 0.6442612334552911, 0.3219230804591789, 0.16090972299472328, 0.08044191552788452, 0.04021772231305536, 0.020108052423933653, 0.010053824045080685, 0.005026861482851378, 0.002513418106757505, 0.0012567058947434628, 0.0006283521577168784, 0.00031417588144522213, 0.00015708789136936881, 7.85439333463816e-05, 3.927196358861607e-05, 1.9635981023164472e-05, 9.81799031879636e-06, 4.908995111201713e-06, 2.45449754355174e-06, 1.2272487687635908e-06, 6.136243836287256e-07, 3.068121916260954e-07, 1.5340609576598083e-07, 7.67030478712237e-08, 3.835152393267017e-08, 1.9175761965599665e-08, 9.587880982615977e-09, 4.7939404912620245e-09, 2.3969702456195215e-09, 1.198485122806888e-09, 5.992425614027258e-10, 2.9962128070118333e-10, 1.4981064035054677e-10, 7.490532017526216e-11, 3.745266008762828e-11, 1.8726330043813438e-11, 9.363165021906543e-12, 4.681582510953228e-12, 2.340791255476603e-12, 1.1703956277382987e-12, 5.851978138691486e-13, 2.9259890693457416e-13, 1.4629945346728703e-13]\n",
            "50\n",
            "[100, 135.0, 175.1625, 216.720897890625, 254.62942546215945, 284.689921726455, 305.4623552907599, 318.23265718647224, 325.44094962976425, 329.29370690076223, 331.2890422444757, 332.30491909982055, 332.8175397628234, 333.0750374835672, 333.2040853333313, 333.26868427576403, 333.30100253529776, 333.31716636639476, 333.3252494578078, 333.32929129754694, 333.33131229093306, 333.3323228060063, 333.33282806813804, 333.33308070035275, 333.33320701674734, 333.33327017501637, 333.3333017541689, 333.3333175437496, 333.3333254385411, 333.33332938593713, 333.3333313596352, 333.3333323464843, 333.3333328399088, 333.33333308662105, 333.3333332099772, 333.33333327165525, 333.3333333024943, 333.3333333179138, 333.3333333256236, 333.3333333294784, 333.3333333314059, 333.3333333323696, 333.33333333285145, 333.33333333309247, 333.33333333321286, 333.3333333332731, 333.33333333330324, 333.33333333331825, 333.3333333333258, 333.33333333332956]\n",
            "50\n",
            "[100, 279.0, 623.5929, 727.646864715729, 614.3484054538058, 734.4657707275334, 604.5799873071456, 741.0953813899954, 594.8063529244793, 747.1364418799932, 585.66309519418, 752.251685777434, 577.7441697695725, 756.2631166072036, 571.4205667069645, 759.1872182188936, 566.7481563270501, 761.1885192435129, 563.5197279876813, 762.49225688475, 561.4032267342063, 763.3118956145458, 560.067221446411, 763.8149796138941, 559.245135247094, 764.1190432436159, 558.7475060878386, 764.3010646382239, 558.4493364164144, 764.4093927246904, 558.2717864207773, 764.4736366127272, 558.1664561642013, 764.511656469624, 558.1041091342566, 764.5341287553147, 558.0672536433665, 764.5474015683825, 558.0454842025925, 764.5552374674282, 558.0326316185132, 764.5598623690329, 558.0250455921631, 764.5625916604849, 558.0205687910513, 764.564202151205, 558.0179271142986, 764.5651524134158, 558.0163683982448, 764.5657130934252]\n",
            "50\n",
            "[100, 342.0, 855.1367999999999, 470.7358424858882, 946.7457145229589, 191.58941291040958, 588.5550571300058, 920.2004070554653, 279.04014805960065, 764.4716265558119, 684.208083238308, 821.0560518647408, 558.3074439318947, 937.08091953209, 224.04902516773433, 660.6340260586646, 851.9474967543001, 479.30524620785116, 948.372563228833, 186.05576926570333, 575.4682759568726, 928.3572494315697, 252.73825406579584, 717.6741901907625, 769.9481983142239, 673.0862868622369, 836.1563217409249, 520.5959239437248, 948.3880700842362, 186.00292670330953, 575.3421842522285, 928.4295100339924, 252.50298874172603, 717.2318717892429, 770.6791927399794, 671.5845435470056, 838.1232287799098, 515.5561922059052, 949.0804185594011, 183.64175513274998, 569.6863514371497, 931.5464872088364, 242.31699163531178, 697.6779753604712, 801.5089886180626, 604.5508531735493, 908.4626525825952, 316.0013934917226, 821.349148651446, 557.5919537117654]\n",
            "4\n",
            "[[100, 45.0, 21.4875, 10.512893671875, 5.201186369259426, 2.5870670148058275, 1.2901870495333656, 0.6442612334552911, 0.3219230804591789, 0.16090972299472328, 0.08044191552788452, 0.04021772231305536, 0.020108052423933653, 0.010053824045080685, 0.005026861482851378, 0.002513418106757505, 0.0012567058947434628, 0.0006283521577168784, 0.00031417588144522213, 0.00015708789136936881, 7.85439333463816e-05, 3.927196358861607e-05, 1.9635981023164472e-05, 9.81799031879636e-06, 4.908995111201713e-06, 2.45449754355174e-06, 1.2272487687635908e-06, 6.136243836287256e-07, 3.068121916260954e-07, 1.5340609576598083e-07, 7.67030478712237e-08, 3.835152393267017e-08, 1.9175761965599665e-08, 9.587880982615977e-09, 4.7939404912620245e-09, 2.3969702456195215e-09, 1.198485122806888e-09, 5.992425614027258e-10, 2.9962128070118333e-10, 1.4981064035054677e-10, 7.490532017526216e-11, 3.745266008762828e-11, 1.8726330043813438e-11, 9.363165021906543e-12, 4.681582510953228e-12, 2.340791255476603e-12, 1.1703956277382987e-12, 5.851978138691486e-13, 2.9259890693457416e-13, 1.4629945346728703e-13], [100, 135.0, 175.1625, 216.720897890625, 254.62942546215945, 284.689921726455, 305.4623552907599, 318.23265718647224, 325.44094962976425, 329.29370690076223, 331.2890422444757, 332.30491909982055, 332.8175397628234, 333.0750374835672, 333.2040853333313, 333.26868427576403, 333.30100253529776, 333.31716636639476, 333.3252494578078, 333.32929129754694, 333.33131229093306, 333.3323228060063, 333.33282806813804, 333.33308070035275, 333.33320701674734, 333.33327017501637, 333.3333017541689, 333.3333175437496, 333.3333254385411, 333.33332938593713, 333.3333313596352, 333.3333323464843, 333.3333328399088, 333.33333308662105, 333.3333332099772, 333.33333327165525, 333.3333333024943, 333.3333333179138, 333.3333333256236, 333.3333333294784, 333.3333333314059, 333.3333333323696, 333.33333333285145, 333.33333333309247, 333.33333333321286, 333.3333333332731, 333.33333333330324, 333.33333333331825, 333.3333333333258, 333.33333333332956], [100, 279.0, 623.5929, 727.646864715729, 614.3484054538058, 734.4657707275334, 604.5799873071456, 741.0953813899954, 594.8063529244793, 747.1364418799932, 585.66309519418, 752.251685777434, 577.7441697695725, 756.2631166072036, 571.4205667069645, 759.1872182188936, 566.7481563270501, 761.1885192435129, 563.5197279876813, 762.49225688475, 561.4032267342063, 763.3118956145458, 560.067221446411, 763.8149796138941, 559.245135247094, 764.1190432436159, 558.7475060878386, 764.3010646382239, 558.4493364164144, 764.4093927246904, 558.2717864207773, 764.4736366127272, 558.1664561642013, 764.511656469624, 558.1041091342566, 764.5341287553147, 558.0672536433665, 764.5474015683825, 558.0454842025925, 764.5552374674282, 558.0326316185132, 764.5598623690329, 558.0250455921631, 764.5625916604849, 558.0205687910513, 764.564202151205, 558.0179271142986, 764.5651524134158, 558.0163683982448, 764.5657130934252], [100, 342.0, 855.1367999999999, 470.7358424858882, 946.7457145229589, 191.58941291040958, 588.5550571300058, 920.2004070554653, 279.04014805960065, 764.4716265558119, 684.208083238308, 821.0560518647408, 558.3074439318947, 937.08091953209, 224.04902516773433, 660.6340260586646, 851.9474967543001, 479.30524620785116, 948.372563228833, 186.05576926570333, 575.4682759568726, 928.3572494315697, 252.73825406579584, 717.6741901907625, 769.9481983142239, 673.0862868622369, 836.1563217409249, 520.5959239437248, 948.3880700842362, 186.00292670330953, 575.3421842522285, 928.4295100339924, 252.50298874172603, 717.2318717892429, 770.6791927399794, 671.5845435470056, 838.1232287799098, 515.5561922059052, 949.0804185594011, 183.64175513274998, 569.6863514371497, 931.5464872088364, 242.31699163531178, 697.6779753604712, 801.5089886180626, 604.5508531735493, 908.4626525825952, 316.0013934917226, 821.349148651446, 557.5919537117654]]\n",
            "50\n"
          ]
        }
      ]
    },
    {
      "cell_type": "markdown",
      "source": [
        "## Plotting multiple function outcomes on one plot \n",
        "\n",
        "Since you should now have numerous lists of population size inside one larger list (`all_lambdas_popsize`), you can now plot each of those. Think about how you'd *index* `all_lambdas_popsize` to isolate each list and plot it. "
      ],
      "metadata": {
        "id": "qyvxrikgfhZM"
      }
    },
    {
      "cell_type": "code",
      "source": [
        "# Write code to plot each of the four population size lists (one for each lambda) on a single plot. "
      ],
      "metadata": {
        "id": "GWcUP6K2fwxx"
      },
      "execution_count": null,
      "outputs": []
    },
    {
      "cell_type": "code",
      "source": [
        "#@title <font color='green '>Run this cell for code to plot each list within the larger list \n",
        "\n",
        "# Create blank canvas for your plots \n",
        "fig, ax = plt.subplots(figsize=(7,7))\n",
        "\n",
        "# Get i, the number you'll use to index, based on how many values are in `all_lambdas_popsize`\n",
        "for i in range(len(all_lambdas_popsize)):\n",
        "  # Index your list to grab each individual list within, and plot it (with generation number on the x axis)\n",
        "  plt.plot(range(N_generations), all_lambdas_popsize[i])"
      ],
      "metadata": {
        "colab": {
          "base_uri": "https://localhost:8080/",
          "height": 428
        },
        "id": "PK2cuuZXf0pa",
        "outputId": "11221000-9a16-4055-b20e-3f7a80147709"
      },
      "execution_count": null,
      "outputs": [
        {
          "output_type": "display_data",
          "data": {
            "text/plain": [
              "<Figure size 504x504 with 1 Axes>"
            ],
            "image/png": "[encoded data removed]"
          },
          "metadata": {
            "needs_background": "light"
          }
        }
      ]
    },
    {
      "cell_type": "markdown",
      "source": [
        "# Arguments in a function are positional \n",
        "\n",
        "When you defined your function `logistic_model()` here, we passed it four arguments: `logistic_model(N, L, N_generations, K)`. These arguments are positional, meaning every time you call the function `logistic_model()` it'll treat the first value as N (population size), the second value as lambda, the third value as the number of generations, and the fourth value as carrying capacity. \n",
        "\n",
        "If you put the numbers in a different order, you'll get different results; Python has no way of knowing that you meant to have the simulation go over 50 generations if you put 50 sa the first number. Instead, it'll treat 50 as your starting population, because it's what you put in first. \n",
        "\n",
        "Let's say you want to model a population with initial population size 100, lambda 1.2, 50 generations, carrying capacity 1000. Look at the two examples below. "
      ],
      "metadata": {
        "id": "6NWAlpYWgYv9"
      }
    },
    {
      "cell_type": "code",
      "source": [
        "# Using the arguments in the correct order\n",
        "correct_order = logistic_model(100, 1.2, 50, 1000)\n",
        "# Moving the order around to show you'll get a different result \n",
        "incorrect_order = logistic_model(1000, 1.2, 50, 100)\n",
        "\n",
        "# Print both resulting lists; their values should not be the same\n",
        "print(correct_order)\n",
        "print(incorrect_order)"
      ],
      "metadata": {
        "colab": {
          "base_uri": "https://localhost:8080/"
        },
        "id": "BTDPIqfag9mG",
        "outputId": "ac95f953-a52b-4931-d101-8bf6f8c825da"
      },
      "execution_count": null,
      "outputs": [
        {
          "output_type": "stream",
          "name": "stdout",
          "text": [
            "[100, 108.0, 115.6032, 122.686920179712, 129.16180775583476, 134.97484220769545, 140.10796101444376, 144.57326432978263, 148.40620268497614, 151.65816202752228, 154.3895567015473, 156.6641057796564, 158.54455648790045, 160.08981611514645, 161.35328026963805, 162.3820790590388, 163.21696735140344, 163.89262670401718, 164.43820033928984, 164.8779343301585, 165.2318413214141, 165.51633592193895, 165.74481415789776, 165.928164885194, 166.07521077963105, 166.19308217295858, 166.28752993297297, 166.36318478611634, 166.4237706407242, 166.47227904773737, 166.51111122766758, 166.5421932784739, 166.5670693637632, 166.58697692079662, 166.6029072494239, 166.61565425455652, 166.62585361425914, 166.63401422589433, 166.64054343463053, 166.64576726212985, 166.6499466188951, 166.6532902929774, 166.65596535300241, 166.65810547831353, 166.65981762803142, 166.6611873794673, 166.66228320088004, 166.66315987097965, 166.6638612153599, 166.66442229617655]\n",
            "[1000, -10799.999999999998, -1412639.9999999995, -23948316403.19998, -6.882262331311307e+18, -5.683864175638385e+35, -3.8767574360526506e+69, -1.8035097861587424e+137, -3.903177058524423e+272, -inf, -inf, -inf, -inf, -inf, -inf, -inf, -inf, -inf, -inf, -inf, -inf, -inf, -inf, -inf, -inf, -inf, -inf, -inf, -inf, -inf, -inf, -inf, -inf, -inf, -inf, -inf, -inf, -inf, -inf, -inf, -inf, -inf, -inf, -inf, -inf, -inf, -inf, -inf, -inf, -inf]\n"
          ]
        }
      ]
    },
    {
      "cell_type": "markdown",
      "source": [
        "Sometimes you might have a large number of arguments for a function. In that case, it can help you better visualize the circumstances if you include the name of the variable as you pass each argument. For example, the below should give you the same outcome as `correct_order`. We executed the function exactly the same way, but included the argument names: "
      ],
      "metadata": {
        "id": "c6S7hN_xhNat"
      }
    },
    {
      "cell_type": "code",
      "source": [
        "correct_order_labeled = logistic_model(N = 100, L = 1.2, N_generations = 50, K = 1000)\n",
        "# print and compare to `correct_order`; they should be the same \n",
        "print(correct_order_labeled)"
      ],
      "metadata": {
        "colab": {
          "base_uri": "https://localhost:8080/"
        },
        "id": "-G4fv_EshdrT",
        "outputId": "a9b8bb41-8b35-4f87-bbfe-2935f172d09c"
      },
      "execution_count": null,
      "outputs": [
        {
          "output_type": "stream",
          "name": "stdout",
          "text": [
            "[100, 108.0, 115.6032, 122.686920179712, 129.16180775583476, 134.97484220769545, 140.10796101444376, 144.57326432978263, 148.40620268497614, 151.65816202752228, 154.3895567015473, 156.6641057796564, 158.54455648790045, 160.08981611514645, 161.35328026963805, 162.3820790590388, 163.21696735140344, 163.89262670401718, 164.43820033928984, 164.8779343301585, 165.2318413214141, 165.51633592193895, 165.74481415789776, 165.928164885194, 166.07521077963105, 166.19308217295858, 166.28752993297297, 166.36318478611634, 166.4237706407242, 166.47227904773737, 166.51111122766758, 166.5421932784739, 166.5670693637632, 166.58697692079662, 166.6029072494239, 166.61565425455652, 166.62585361425914, 166.63401422589433, 166.64054343463053, 166.64576726212985, 166.6499466188951, 166.6532902929774, 166.65596535300241, 166.65810547831353, 166.65981762803142, 166.6611873794673, 166.66228320088004, 166.66315987097965, 166.6638612153599, 166.66442229617655]\n"
          ]
        }
      ]
    },
    {
      "cell_type": "markdown",
      "source": [
        "If you label the arguments (as in the above example), you CAN change the order of the arguments. For example, the below should give the same list as `correct_order_labeled`; but this is not recommended, as it unnecessarily complicates the code. It is generally better to keep the arguments in the same order as when you defined the function, regardless of whether you name them or not."
      ],
      "metadata": {
        "id": "C4C_Q_GBhnyO"
      }
    },
    {
      "cell_type": "code",
      "source": [
        "incorrect_order_labeled = logistic_model(N_generations = 50, N = 100, K = 1000, L = 1.2)\n",
        "print(incorrect_order_labeled)"
      ],
      "metadata": {
        "colab": {
          "base_uri": "https://localhost:8080/"
        },
        "id": "G3yeAF5wh38T",
        "outputId": "fad241be-0ead-4de5-9dda-dedad0e59907"
      },
      "execution_count": null,
      "outputs": [
        {
          "output_type": "stream",
          "name": "stdout",
          "text": [
            "[100, 108.0, 115.6032, 122.686920179712, 129.16180775583476, 134.97484220769545, 140.10796101444376, 144.57326432978263, 148.40620268497614, 151.65816202752228, 154.3895567015473, 156.6641057796564, 158.54455648790045, 160.08981611514645, 161.35328026963805, 162.3820790590388, 163.21696735140344, 163.89262670401718, 164.43820033928984, 164.8779343301585, 165.2318413214141, 165.51633592193895, 165.74481415789776, 165.928164885194, 166.07521077963105, 166.19308217295858, 166.28752993297297, 166.36318478611634, 166.4237706407242, 166.47227904773737, 166.51111122766758, 166.5421932784739, 166.5670693637632, 166.58697692079662, 166.6029072494239, 166.61565425455652, 166.62585361425914, 166.63401422589433, 166.64054343463053, 166.64576726212985, 166.6499466188951, 166.6532902929774, 166.65596535300241, 166.65810547831353, 166.65981762803142, 166.6611873794673, 166.66228320088004, 166.66315987097965, 166.6638612153599, 166.66442229617655]\n"
          ]
        }
      ]
    }
  ]
}