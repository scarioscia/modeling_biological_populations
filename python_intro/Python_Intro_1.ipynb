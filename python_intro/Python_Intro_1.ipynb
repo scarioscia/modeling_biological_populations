{
  "nbformat": 4,
  "nbformat_minor": 0,
  "metadata": {
    "colab": {
      "provenance": [],
      "include_colab_link": true
    },
    "kernelspec": {
      "name": "python3",
      "display_name": "Python 3"
    },
    "language_info": {
      "name": "python"
    }
  },
  "cells": [
    {
      "cell_type": "markdown",
      "metadata": {
        "id": "view-in-github",
        "colab_type": "text"
      },
      "source": [
        "<a href=\"https://colab.research.google.com/github/scarioscia/modeling_biological_populations/blob/main/Introduction_to_Python.ipynb\" target=\"_parent\"><img src=\"https://colab.research.google.com/assets/colab-badge.svg\" alt=\"Open In Colab\"/></a>"
      ]
    },
    {
      "cell_type": "markdown",
      "source": [
        "# Writing in Python\n",
        "\n",
        "In Python, every line is evaluated as an independent statement. Here is a simple line of code in Python, making use of the `print()` function. We will see this function repeatedly – it takes anything within the parenthesis and prints it out for the user to see:\n",
        "\n"
      ],
      "metadata": {
        "id": "SlSoDxsuW__c"
      }
    },
    {
      "cell_type": "code",
      "source": [
        "print(\"Hello World\")"
      ],
      "metadata": {
        "id": "WCezBDa6XZlz"
      },
      "execution_count": null,
      "outputs": []
    },
    {
      "cell_type": "markdown",
      "source": [
        "In Python we can use the `#` symbol to create a comment. Any text in the line of code following the `#` will be ignored by Python. Comments are great for writing out in understandable terms what you are trying to do."
      ],
      "metadata": {
        "id": "F1rCvxGGXr_R"
      }
    },
    {
      "cell_type": "code",
      "source": [
        "# None of the code in this block will be evaluated because every line is commented out\n",
        "# print(\"Hello World\")"
      ],
      "metadata": {
        "id": "lzs6rkzTXrQi"
      },
      "execution_count": null,
      "outputs": []
    },
    {
      "cell_type": "markdown",
      "source": [
        "A comment can be made partway through a line. "
      ],
      "metadata": {
        "id": "of_qFv9BYa9r"
      }
    },
    {
      "cell_type": "code",
      "source": [
        "my_number = 1 + 1 + 1 # + 1 + 1 + 1 + 1 + 1\n",
        "print(my_number)"
      ],
      "metadata": {
        "id": "VQOowH1eYWCi"
      },
      "execution_count": null,
      "outputs": []
    },
    {
      "cell_type": "markdown",
      "source": [
        "In the first line of this code block, only the first three addition statements are evaluated because everything after is commented out.\n",
        "\n",
        "# **Data Types**\n",
        "\n",
        "In Python, we have the ability to work with many different types of data. Here are some of the basic data types that are most common:\n",
        "\n",
        "***Integers***\n",
        "Integers are whole numbers, without a decimal point. Here are some examples of integers:\n",
        "\n",
        "* 2\n",
        "* -3\n",
        "* 0 \n",
        "\n",
        "***Floats***\n",
        "Floats are numbers with a decimal point. Here are some examples of floats:\n",
        "\n",
        "* 1.2\n",
        "* -3.0\n",
        "* 26/3 (This one doesn't actually have a decimal point written in by me, but the expression evaluates to 8.666)\n",
        "\n",
        "***Strings***\n",
        "Strings are character data enclosed by single `'` or double `\"` quotation marks. *Any* text enclosed by quotes will be treated as a string. Here are some strings:\n",
        "\n",
        "* \"You're a third rate duelist with a fourth rate deck\"\n",
        "* \"85.3\" \n",
        "\n",
        "Note the second example – `85.3` is a float; `\"85.3\"` is a string.\n",
        "\n",
        "**Booleans**\n",
        "\n",
        "A Boolean has two possible values: `True` and `False`.\n",
        "\n",
        "To see an example of a Boolean in action, run the following code block, which will evaluate whether the expression `5 < 10` is true: "
      ],
      "metadata": {
        "id": "kdXvD63pH6tB"
      }
    },
    {
      "cell_type": "code",
      "source": [
        "print(5 < 10)"
      ],
      "metadata": {
        "id": "9X5cYBsFOorW"
      },
      "execution_count": null,
      "outputs": []
    },
    {
      "cell_type": "markdown",
      "source": [
        "# **Variables**\n",
        "\n",
        "If we want to save our data to actually make use of it, we need to store it as a **variable**. Variables consist of:\n",
        "\n",
        "* A variable name\n",
        "* The data being saved \n",
        "\n",
        "A variable is assigned using the equals sign, with this general syntax:\n",
        "\n",
        "`data_name = data`\n",
        "\n",
        "The data name can be *almost* anything. Here are the rules to consider when naming a variable: \n",
        "\n",
        "* A variable name must start with a letter or underscore\n",
        "* A variable name can only consist of letters, numbers, or underscores\n",
        "* Variables are case sensitive (i.e. Python would interpret `my_number`, `MY_NUMBER`, and `My_Number` as different variables) \n",
        "* Python has a set of  \"reserved words\" that cannot be used as variable names. These are words that already have a set meaning in Python, such as `True`, `False`, `for`, and `if`. A full list can be found here: https://www.programiz.com/python-programming/keywords-identifier\n",
        "\n",
        "Use the space below to try out creating variables. We've written out a couple to get you started; add a few more for practice.\n",
        "\n",
        " \n"
      ],
      "metadata": {
        "id": "q-mNYAWJXnRz"
      }
    },
    {
      "cell_type": "code",
      "source": [
        "year = 1738\n",
        "composer = \"Handel\"\n",
        "\n",
        "# Add some more below \n",
        "\n",
        "\n",
        "\n",
        "\n",
        "\n"
      ],
      "metadata": {
        "id": "4D7QpIfAH986"
      },
      "execution_count": null,
      "outputs": []
    },
    {
      "cell_type": "markdown",
      "source": [
        "One really important thing to remember about variables is that if you use the same variable name twice, the variable is overwritten, i.e. the old value of the variable is deleted and a new one is assigned. \n",
        "\n",
        "In the code block below, please do the following:\n",
        "\n",
        "* assign the variable `my_number` to equal 12\n",
        "* assign the variable `my_number` to equal 48\n",
        "* print out the value of `my_number`. \n",
        "\n",
        "What number do you expect to see when you run your code? "
      ],
      "metadata": {
        "id": "QSGFrhszZZzb"
      }
    },
    {
      "cell_type": "code",
      "source": [
        "# Your code here\n",
        "\n",
        "\n"
      ],
      "metadata": {
        "id": "U1krh0DMelig"
      },
      "execution_count": null,
      "outputs": []
    },
    {
      "cell_type": "code",
      "execution_count": null,
      "metadata": {
        "id": "DWvUnC3901iN",
        "cellView": "form"
      },
      "outputs": [],
      "source": [
        "#@title <font color='green'>Run this cell to see solution</font>\n",
        "\n",
        "print(\"CODE:\\n\\nmy_number = 12\\nmy_number = 48\\nprint(my_number)\\n\\nRESULT:\\n\")\n",
        "\n",
        "my_number = 12\n",
        "my_number = 48\n",
        "print(my_number)"
      ]
    },
    {
      "cell_type": "markdown",
      "source": [
        "# Mathematical Operations\n",
        "\n",
        "A lot of mathematical operations in Python are straightforward. Here are some of the basic operations we can perform: \n",
        "\n",
        "* `+` and `-` – addition and subtraction \n",
        "* `*` and `/` – multiplication and division\n",
        "* `**` – Exponentials\n",
        "\n",
        "Here are some examples:\n"
      ],
      "metadata": {
        "id": "NeM3xx4F21-j"
      }
    },
    {
      "cell_type": "code",
      "source": [
        "print(8/4)\n",
        "print(10 + 3)\n",
        "print(10**2)"
      ],
      "metadata": {
        "id": "HSC6Hidl3_uT"
      },
      "execution_count": null,
      "outputs": []
    },
    {
      "cell_type": "markdown",
      "source": [
        "Note that mathematical operations can convert an integer into a float: \n"
      ],
      "metadata": {
        "id": "BjE66JLlcNci"
      }
    },
    {
      "cell_type": "code",
      "source": [
        "print(5/2)\n",
        "print(3 + 2.2)"
      ],
      "metadata": {
        "id": "MYzP0o3r5Imo"
      },
      "execution_count": null,
      "outputs": []
    },
    {
      "cell_type": "markdown",
      "source": [
        "We can save the output of an expression as a variable:"
      ],
      "metadata": {
        "id": "CqXtwGV25OeD"
      }
    },
    {
      "cell_type": "code",
      "source": [
        "my_product = 2 * 10\n",
        "print(my_product)"
      ],
      "metadata": {
        "id": "yo8mg--05Nwh"
      },
      "execution_count": null,
      "outputs": []
    },
    {
      "cell_type": "markdown",
      "source": [
        "We can also perform all mathematical operations on a variable that has a numerical value:"
      ],
      "metadata": {
        "id": "SkZ9jbxn3bQg"
      }
    },
    {
      "cell_type": "code",
      "source": [
        "number1 = 7\n",
        "print(number1 + 2)\n",
        "print(number1 / 5)\n",
        "print(number1 ** 2)"
      ],
      "metadata": {
        "id": "AzjK7l5x3xUx"
      },
      "execution_count": null,
      "outputs": []
    },
    {
      "cell_type": "markdown",
      "source": [
        "And we can use mathematical operations to change the value of a variable:"
      ],
      "metadata": {
        "id": "YhizyIpD3-bd"
      }
    },
    {
      "cell_type": "code",
      "source": [
        "number2 = 36\n",
        "number2 = number2 / 18\n",
        "print(number2)"
      ],
      "metadata": {
        "id": "t6n4InhB39xW"
      },
      "execution_count": null,
      "outputs": []
    },
    {
      "cell_type": "markdown",
      "source": [
        "**Practice** \n",
        "\n",
        "In the code block below, try the following:\n",
        "\n",
        "1. Add two numbers together\n",
        "2. Divide two numbers \n",
        "3. Take an exponent \n",
        "4. Find the product of two numbers, storing the result as a variable."
      ],
      "metadata": {
        "id": "U8Rafytv1dNl"
      }
    },
    {
      "cell_type": "code",
      "source": [
        "# Your code goes here\n",
        "\n",
        "\n"
      ],
      "metadata": {
        "id": "Z72xvPeIgtdS"
      },
      "execution_count": null,
      "outputs": []
    },
    {
      "cell_type": "code",
      "source": [
        "#@title <font color='green'>Run this cell to see solution</font>\n",
        "\n",
        "print(\"1. Add two numbers together\\nprint(2 + 3.3)\")\n",
        "print(2 + 3.3)\n",
        "\n",
        "print(\"\\n2. Divide two numbers\\nprint(18/2)\")\n",
        "print(18/2)\n",
        "\n",
        "print(\"\\n3. Take an exponent\\nprint(7**3)\")\n",
        "print(7**3)\n",
        "\n",
        "\n",
        "print(\"\\n4. Find the product of two numbers, storing the result as a variable.\\nmy_product=2*3\\nprint(my_product)\")\n",
        "my_product=2*3\n",
        "print(my_product)"
      ],
      "metadata": {
        "cellView": "form",
        "id": "to_OwRhMgvM0"
      },
      "execution_count": null,
      "outputs": []
    },
    {
      "cell_type": "markdown",
      "source": [
        "**Practice**\n",
        "\n",
        "Multiply an integer by a float, saving the result as a variable. \n",
        "\n",
        "Raise your variable to the power of 3, and overwrite your variable with this value. "
      ],
      "metadata": {
        "id": "Grw4Oybygchm"
      }
    },
    {
      "cell_type": "code",
      "source": [
        "# Your code goes here\n",
        "\n",
        "\n"
      ],
      "metadata": {
        "id": "uRlVQyvd3KKh"
      },
      "execution_count": null,
      "outputs": []
    },
    {
      "cell_type": "code",
      "source": [
        "#@title <font color='green'>Run this cell to see solution</font>\n",
        "\n",
        "\n",
        "print(\"my_var = 5 * 3.3\")\n",
        "print(\"my_var = my_var ** 3\")\n",
        "print(\"print(my_var)\")\n"
      ],
      "metadata": {
        "id": "jzFzpKAs1UvL",
        "cellView": "form"
      },
      "execution_count": null,
      "outputs": []
    },
    {
      "cell_type": "markdown",
      "source": [
        "# **Comparisons** \n",
        "\n",
        "We can use the following syntax to compare values:\n",
        "\n",
        "* `<` and `>` to compare greater than/less than\n",
        "* `<=` and `>=` for greater than or equal to/less than or equal to\n",
        "* `==` checks if two values are equal. `!=` checks that two values are different. \n",
        "\n",
        "These comparisons will always return a Boolean, i.e. either `True` or `False`. \n",
        "\n",
        "Note that a single equals sign `=` is used to assign values. So `var1 = 3` is setting `var1` equal to 3. However, a double equals sign `==` is used to compare values. `var1 == 3` is checking if the value of `var1` is 3. \n",
        "\n",
        "Here are some examples: "
      ],
      "metadata": {
        "id": "zMdFPgRE4nxp"
      }
    },
    {
      "cell_type": "code",
      "source": [
        "my_number = 25\n",
        "\n",
        "print(my_number < 17) # is my number less than 17?\n",
        "print(my_number >= 14) # is my number greater than or equal to 14?\n",
        "print(my_number == 6) # is my number equal to 6?\n",
        "print(my_number != 3) # is my number NOT equal to 3?"
      ],
      "metadata": {
        "id": "wGUIH_mf5LUe"
      },
      "execution_count": null,
      "outputs": []
    },
    {
      "cell_type": "markdown",
      "source": [
        "**Practice**\n",
        "\n",
        "Create a new variable whose value is any integer. \n",
        "\n",
        "Multiply it by 5, saving the value of the product\n",
        "\n",
        "Take the square root of the number check if the result is less than or equal to 10."
      ],
      "metadata": {
        "id": "pca_StFG6TeQ"
      }
    },
    {
      "cell_type": "code",
      "source": [
        "# Your code goes here\n",
        "\n",
        "\n",
        "\n"
      ],
      "metadata": {
        "id": "GUmexGQnhi4D"
      },
      "execution_count": null,
      "outputs": []
    },
    {
      "cell_type": "code",
      "source": [
        "#@title <font color='green'>Run this cell for a hint</font>\n",
        "\n",
        "print(\"Taking the square root is the same as raising to the power of 0.5\")\n",
        "print(\"x ** 0.5 takes the square root of x\")"
      ],
      "metadata": {
        "id": "yv-56bFW7bPk",
        "cellView": "form"
      },
      "execution_count": null,
      "outputs": []
    },
    {
      "cell_type": "code",
      "source": [
        "#@title <font color='green'>Run this cell for the solution</font>\n",
        "\n",
        "print(\"num = 3 \")\n",
        "print(\"num = num * 5\")\n",
        "print(\"num = num ** 0.5\")\n",
        "print(\"print(num >= 10)\")\n",
        "print(\"\\nOr a slightly more consise way to do this:\\n\")\n",
        "print(\"num = 3\")\n",
        "print(\"num = num * 5\")\n",
        "print(\"print((num ** 0.05) >= 10)\")"
      ],
      "metadata": {
        "id": "Lhe9wW7l1Ns8",
        "cellView": "form"
      },
      "execution_count": null,
      "outputs": []
    },
    {
      "cell_type": "markdown",
      "source": [
        "# **Order of Operations**\n",
        "\n",
        "Python follows the usual mathematical order of operations. And like usual in math, we can use parenthesis `()` to enforce a specific order. Here's a few examples:\n",
        "\n",
        "\n",
        "\n"
      ],
      "metadata": {
        "id": "6HyhmMhe-SKk"
      }
    },
    {
      "cell_type": "code",
      "source": [
        "num1 = 2 + 3 / 3 ** 2 # Exponential done first, then division, then addition\n",
        "num2 = 2 + (3/3) ** 2 # First we divide 3/3 = 1; then we raise to the second power, then we add\n",
        "num3 = (2 + 3) / 3 ** 2 # First we add, then we take the exponent, then we divide\n",
        "\n",
        "print(num1)\n",
        "print(num2)\n",
        "print(num3)"
      ],
      "metadata": {
        "id": "TJbyEc2G8O5H"
      },
      "execution_count": null,
      "outputs": []
    },
    {
      "cell_type": "markdown",
      "source": [
        "How do comparisons fit in to this? Comparisons happen after arithmetic operations. In the following code block, the additions on either side of the `>` sign are evaluated prior to the comparison."
      ],
      "metadata": {
        "id": "H7HvrJj0RfWV"
      }
    },
    {
      "cell_type": "code",
      "source": [
        "print(1 + 2 > 3 - 1)"
      ],
      "metadata": {
        "id": "mjq0Jlv5ReuC"
      },
      "execution_count": null,
      "outputs": []
    },
    {
      "cell_type": "markdown",
      "source": [
        "That said, it is good practice that improves the clarity of your code to use parenthesis to show what is being compared, as such:"
      ],
      "metadata": {
        "id": "dBMRnRJ4TDm6"
      }
    },
    {
      "cell_type": "code",
      "source": [
        "print( (1 + 2) > (3 - 1) )"
      ],
      "metadata": {
        "id": "b0aXDyz4TCyD"
      },
      "execution_count": null,
      "outputs": []
    },
    {
      "cell_type": "markdown",
      "source": [
        "# **String Manipulations**\n",
        "\n",
        "So far, we've talked about how to manipulate numeric values. As it turns out, we can use some of the same operations to manipulate strings:\n",
        "\n",
        "* `+` will combine two strings"
      ],
      "metadata": {
        "id": "QZHfGU3OQpRC"
      }
    },
    {
      "cell_type": "code",
      "source": [
        "s1 = \"yes\"\n",
        "s2 = \" and\"\n",
        "longer_string = s1 + s2\n",
        "print(longer_string)"
      ],
      "metadata": {
        "id": "zRjok2ydQoHB"
      },
      "execution_count": null,
      "outputs": []
    },
    {
      "cell_type": "markdown",
      "source": [
        "* `==` and `!=` will compare the equality of two strings "
      ],
      "metadata": {
        "id": "0HsAycS1WCcy"
      }
    },
    {
      "cell_type": "code",
      "source": [
        "my_string = \"calico\"\n",
        "\n",
        "print(my_string == \"tabby\")\n",
        "print(my_string != \"Calico\") # Note that string comparisons are case sensitive! "
      ],
      "metadata": {
        "id": "G0757LWIVvmx"
      },
      "execution_count": null,
      "outputs": []
    },
    {
      "cell_type": "markdown",
      "source": [
        "Use the code block below to test this out – combine some strings together; use `==` and `!=` to compare strings to each other:"
      ],
      "metadata": {
        "id": "UNK9Hbx_wIPb"
      }
    },
    {
      "cell_type": "code",
      "source": [
        "# Your code here\n",
        "\n",
        "\n"
      ],
      "metadata": {
        "id": "JGgElYgJwRjH"
      },
      "execution_count": null,
      "outputs": []
    },
    {
      "cell_type": "markdown",
      "source": [
        "# Lists\n",
        "\n",
        "So far, when creating variables, each variable has stored a single piece of information, e.g. a single integer or a discrete string. What if we want to store multiple items together? We can use a list.\n",
        "\n",
        "A list is a sequential group of variables, denoted in Python by square brackets `[]`, with individual entries separated by commas `,`. A few of the neat properties of lists are: \n",
        "\n",
        "* Lists have a preserved order. The list `[1, 5, 3, 7]` will always preserve those numbers in the same order. \n",
        "* Lists can mix data types. `[\"apple\", 13, 5.3, False]` is a valid list which contains every data type we've seen so far.\n",
        "* Lists can also contain other lists: `[\"a string\", 12, [3, 2], 18]` \n",
        "* Lists can have identical values repeatedly. This is valid list design: `[\"tomato\", \"tomato\", \"tomato\", 3, \"tomato\"]`\n",
        "\n",
        "Here's an example of a list being initialized:"
      ],
      "metadata": {
        "id": "tms76yqWcz1W"
      }
    },
    {
      "cell_type": "code",
      "source": [
        "my_list = [\"Lorem\", \"ipsum\", \"dolor\", \"sit\", \"amet\"]"
      ],
      "metadata": {
        "id": "Ep2_yxgvczbw"
      },
      "execution_count": null,
      "outputs": []
    },
    {
      "cell_type": "markdown",
      "source": [
        "**Practice**\n",
        "\n",
        "In the space below, please make a list with at least three entries and at least two different types of data. Store your list as a variable and run the code block."
      ],
      "metadata": {
        "id": "umSwxd57wb0y"
      }
    },
    {
      "cell_type": "code",
      "source": [
        "# Your code here\n",
        "\n",
        "\n"
      ],
      "metadata": {
        "id": "ItJDSTXswm73"
      },
      "execution_count": null,
      "outputs": []
    },
    {
      "cell_type": "markdown",
      "source": [
        "What if we want to extract a specific value from a list? We can use indexing. To index in Python, we use the following syntax: `variable_name[index]`, with index being an integer refering to the position we wish to extract. "
      ],
      "metadata": {
        "id": "cPYvrL4BdXjD"
      }
    },
    {
      "cell_type": "code",
      "source": [
        "my_list = [\"Lorem\", \"ipsum\", \"dolor\", \"sit\", \"amet\"]\n",
        "print(my_list[1])"
      ],
      "metadata": {
        "id": "W2gB0f6Gd3LE"
      },
      "execution_count": null,
      "outputs": []
    },
    {
      "cell_type": "markdown",
      "source": [
        "Notice that when we printed the item at position `1`, we printed out the *second* entry in `my_list`. This is because in Python, **indexes start at 0**. So to print out the first entry, we would want `my_list[0]`. \n",
        "\n",
        "**Practice**\n",
        "\n",
        "Try out string indexing – using the list you made above, trying using string indexing to print out just the first item.\n",
        "\n"
      ],
      "metadata": {
        "id": "T-9glbJmeDA6"
      }
    },
    {
      "cell_type": "code",
      "source": [
        "# Your code here\n",
        "\n",
        "\n"
      ],
      "metadata": {
        "id": "b9VfvTXOxX_A"
      },
      "execution_count": null,
      "outputs": []
    },
    {
      "cell_type": "markdown",
      "source": [
        "A couple interesting things we can do with indexing: \n",
        "\n",
        "* To print multiple consecutive number, we can provie two numbers separated by a colon `:`. Note that the first number is **inclusive** and the second number is **exclusive**. For example, in the sample below, we provide the index `1:3`. This prints out the item at position 1 ('ipsum'), the item at position 2 ('dolor') and *not* the item at position 3 ('sit')."
      ],
      "metadata": {
        "id": "0ILaBXjExYZI"
      }
    },
    {
      "cell_type": "code",
      "source": [
        "print(my_list[1:3])"
      ],
      "metadata": {
        "id": "TtMSGGHhd_vk"
      },
      "execution_count": null,
      "outputs": []
    },
    {
      "cell_type": "markdown",
      "source": [
        "* We can index in reverse. To index from the end of the list, we use negative numbers. "
      ],
      "metadata": {
        "id": "iqO7Eyr5fioS"
      }
    },
    {
      "cell_type": "code",
      "source": [
        "print(my_list[-1]) # Print the last item from the end \n",
        "print(my_list[-2]) # Print the second to last item\n",
        "print(my_list[-3]) # Print the third to last item"
      ],
      "metadata": {
        "id": "uIYMgUJQeoui"
      },
      "execution_count": null,
      "outputs": []
    },
    {
      "cell_type": "markdown",
      "source": [
        "What if we have a list within a list? Consider the following list: \n",
        "\n",
        "> Indented block \n",
        "`my_list = [1, 2, [3, 4], 5]`\n",
        "\n",
        "How would we point to the number 3 in this list?\n",
        "\n",
        "First, we can point to the interior list. The interior list is the third item in the list, so it is at position 2 (remember, indexing in Python starts at 0). So we can access the interior list with `my_list[2]`. \n",
        "\n",
        "Within the interior list, 3 is the first item, so it is at position 0. It can be accessed with the syntax `my_list[2][0]`"
      ],
      "metadata": {
        "id": "grOC8I3ngQuR"
      }
    },
    {
      "cell_type": "code",
      "source": [
        "my_list = [1, 2, [3, 4], 5]\n",
        "print(my_list[2])\n",
        "print(my_list[2][0])"
      ],
      "metadata": {
        "id": "gC2CsLeyg7mB"
      },
      "execution_count": null,
      "outputs": []
    },
    {
      "cell_type": "markdown",
      "source": [
        "**Practice**\n",
        "\n",
        "In the code block below, I've provided you with a list. For practice, please do the following: \n",
        " \n",
        "1. Print the second item from the list\n",
        "2. Print the third and fourth items using a colon"
      ],
      "metadata": {
        "id": "rYCYuJn8iAkc"
      }
    },
    {
      "cell_type": "code",
      "source": [
        "practice_list = [17, \"cherry\", 5.4, [\"bridges\", \"balloons\"], 3.14]\n",
        "\n",
        "# Print the second item\n",
        "\n",
        "# Print the third and fourth items using a colon\n",
        "\n",
        "# Print the final item\n",
        "\n",
        "# Print the second entry in the nested list (\"balloons\")\n"
      ],
      "metadata": {
        "id": "F-mF02PyiJy3"
      },
      "execution_count": null,
      "outputs": []
    },
    {
      "cell_type": "code",
      "source": [
        "#@title <font color='green'>Run this cell for the solution</font>\n",
        "practice_list = [17, \"cherry\", 5.4, [\"bridges\", \"balloons\"], 3.14]\n",
        "\n",
        "print(\"# Print the second item\\nprint(practice_list[1])\")\n",
        "print(practice_list[1])\n",
        "\n",
        "print(\"\\n# Print the third and fourth items using a colon\\nprint(practice_list[2:4])\")\n",
        "print(practice_list[2:4])\n",
        "\n",
        "print(\"\\n# Print the final item\\nprint(practice_list[-1])\")\n",
        "print(practice_list[-1])\n",
        "\n",
        "print(\"\\n# Print the second entry in the nested list (\\\"balloons\\\")\\nprint(practice_list[3][1])\")\n",
        "print(practice_list[3][1])"
      ],
      "metadata": {
        "id": "c7G_TpsMjVSn",
        "cellView": "form"
      },
      "execution_count": null,
      "outputs": []
    },
    {
      "cell_type": "markdown",
      "source": [
        "One last interesting thing we can do with lists is we can add entries to the end of a list. We do this using something called `append()`, which is used with the following syntax:\n",
        "\n",
        "`list_name.append(item)`\n",
        "\n",
        "For an example: "
      ],
      "metadata": {
        "id": "Ig_mRykOf6Od"
      }
    },
    {
      "cell_type": "code",
      "source": [
        "my_list = [1, 2, 3] # Making a list with three items\n",
        "print(my_list)\n",
        "\n",
        "my_list.append('apple') ## Here, I'm adding an item to the list\n",
        "print(my_list)"
      ],
      "metadata": {
        "id": "87xp2ZNlf38w"
      },
      "execution_count": null,
      "outputs": []
    },
    {
      "cell_type": "markdown",
      "source": [
        "**Practice**\n",
        "\n",
        "In the code block below:\n",
        "\n",
        "\n",
        "1. Make a list containing at least 4 elements. Have at least one float and one string among the list items. \n",
        "2. Print out the final element.\n",
        "3. Add an element to the end of your list.\n",
        "4. Print out the final element.\n"
      ],
      "metadata": {
        "id": "ysrlgfvMk8g-"
      }
    },
    {
      "cell_type": "code",
      "source": [
        "# Your solution here\n",
        "\n",
        "\n"
      ],
      "metadata": {
        "id": "MHaqo7Z4hfNg"
      },
      "execution_count": null,
      "outputs": []
    },
    {
      "cell_type": "code",
      "source": [
        "#@title <font color='green'>Run this cell for a possible solution</font>\n",
        "print(\"1. Make a list containing at least 4 elements\\nsolution = [1, 3.4, \\\"Cassiopeia\\\", 10]\")\n",
        "solution = [1, 3.4, \"Cassiopeia\", 10]\n",
        "print(\"\\n2. Print out the final element\\nprint(solution[-1])\")\n",
        "print(solution[-1])\n",
        "print(\"\\n3. Add an element to the end of your list\\nsolution.append(\\\"Andromeda\\\")\")\n",
        "solution.append(\"Andromeda\")\n",
        "print(\"\\n4. Print out the final element\\nprint(solution[-1])\")\n",
        "print(solution[-1])"
      ],
      "metadata": {
        "id": "Yce9u6WblH6K",
        "cellView": "form"
      },
      "execution_count": null,
      "outputs": []
    }
  ]
}